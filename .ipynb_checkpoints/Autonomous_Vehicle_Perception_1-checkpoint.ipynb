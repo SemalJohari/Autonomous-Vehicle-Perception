{
 "cells": [
  {
   "cell_type": "markdown",
   "id": "3f976148",
   "metadata": {},
   "source": [
    "# Exploratory Data Analysis"
   ]
  },
  {
   "cell_type": "code",
   "execution_count": 1,
   "id": "b571262f",
   "metadata": {},
   "outputs": [
    {
     "name": "stdout",
     "output_type": "stream",
     "text": [
      "Defaulting to user installation because normal site-packages is not writeable\n",
      "Requirement already satisfied: wandb in c:\\users\\semal\\appdata\\roaming\\python\\python311\\site-packages (0.18.1)\n",
      "Requirement already satisfied: click!=8.0.0,>=7.1 in c:\\programdata\\anaconda3\\lib\\site-packages (from wandb) (8.0.4)\n",
      "Requirement already satisfied: docker-pycreds>=0.4.0 in c:\\users\\semal\\appdata\\roaming\\python\\python311\\site-packages (from wandb) (0.4.0)\n",
      "Requirement already satisfied: gitpython!=3.1.29,>=1.0.0 in c:\\users\\semal\\appdata\\roaming\\python\\python311\\site-packages (from wandb) (3.1.43)\n",
      "Requirement already satisfied: platformdirs in c:\\programdata\\anaconda3\\lib\\site-packages (from wandb) (3.10.0)\n",
      "Requirement already satisfied: protobuf!=4.21.0,!=5.28.0,<6,>=3.19.0 in c:\\users\\semal\\appdata\\roaming\\python\\python311\\site-packages (from wandb) (4.25.3)\n",
      "Requirement already satisfied: psutil>=5.0.0 in c:\\programdata\\anaconda3\\lib\\site-packages (from wandb) (5.9.0)\n",
      "Requirement already satisfied: pyyaml in c:\\programdata\\anaconda3\\lib\\site-packages (from wandb) (6.0)\n",
      "Requirement already satisfied: requests<3,>=2.0.0 in c:\\programdata\\anaconda3\\lib\\site-packages (from wandb) (2.31.0)\n",
      "Requirement already satisfied: sentry-sdk>=1.0.0 in c:\\users\\semal\\appdata\\roaming\\python\\python311\\site-packages (from wandb) (2.14.0)\n",
      "Requirement already satisfied: setproctitle in c:\\users\\semal\\appdata\\roaming\\python\\python311\\site-packages (from wandb) (1.3.3)\n",
      "Requirement already satisfied: setuptools in c:\\programdata\\anaconda3\\lib\\site-packages (from wandb) (68.0.0)\n",
      "Requirement already satisfied: colorama in c:\\programdata\\anaconda3\\lib\\site-packages (from click!=8.0.0,>=7.1->wandb) (0.4.6)\n",
      "Requirement already satisfied: six>=1.4.0 in c:\\programdata\\anaconda3\\lib\\site-packages (from docker-pycreds>=0.4.0->wandb) (1.16.0)\n",
      "Requirement already satisfied: gitdb<5,>=4.0.1 in c:\\users\\semal\\appdata\\roaming\\python\\python311\\site-packages (from gitpython!=3.1.29,>=1.0.0->wandb) (4.0.11)\n",
      "Requirement already satisfied: charset-normalizer<4,>=2 in c:\\programdata\\anaconda3\\lib\\site-packages (from requests<3,>=2.0.0->wandb) (2.0.4)\n",
      "Requirement already satisfied: idna<4,>=2.5 in c:\\programdata\\anaconda3\\lib\\site-packages (from requests<3,>=2.0.0->wandb) (3.4)\n",
      "Requirement already satisfied: urllib3<3,>=1.21.1 in c:\\programdata\\anaconda3\\lib\\site-packages (from requests<3,>=2.0.0->wandb) (1.26.16)\n",
      "Requirement already satisfied: certifi>=2017.4.17 in c:\\programdata\\anaconda3\\lib\\site-packages (from requests<3,>=2.0.0->wandb) (2023.7.22)\n",
      "Requirement already satisfied: smmap<6,>=3.0.1 in c:\\users\\semal\\appdata\\roaming\\python\\python311\\site-packages (from gitdb<5,>=4.0.1->gitpython!=3.1.29,>=1.0.0->wandb) (5.0.1)\n"
     ]
    },
    {
     "name": "stderr",
     "output_type": "stream",
     "text": [
      "DEPRECATION: Loading egg at c:\\programdata\\anaconda3\\lib\\site-packages\\vboxapi-1.0-py3.11.egg is deprecated. pip 23.3 will enforce this behaviour change. A possible replacement is to use pip for package installation..\n"
     ]
    }
   ],
   "source": [
    "!pip install wandb"
   ]
  },
  {
   "cell_type": "code",
   "execution_count": 3,
   "id": "5916965a",
   "metadata": {},
   "outputs": [
    {
     "name": "stdout",
     "output_type": "stream",
     "text": [
      "Defaulting to user installation because normal site-packages is not writeable\n",
      "Collecting fastai\n",
      "  Obtaining dependency information for fastai from https://files.pythonhosted.org/packages/45/2b/58f86cfc507e8da396ef9876ecdc5e196ac9ba99b0c85612ebe0c4e25c1c/fastai-2.7.17-py3-none-any.whl.metadata\n",
      "  Downloading fastai-2.7.17-py3-none-any.whl.metadata (9.1 kB)\n",
      "Requirement already satisfied: pip in c:\\programdata\\anaconda3\\lib\\site-packages (from fastai) (23.2.1)\n",
      "Requirement already satisfied: packaging in c:\\programdata\\anaconda3\\lib\\site-packages (from fastai) (23.1)\n",
      "Collecting fastdownload<2,>=0.0.5 (from fastai)\n",
      "  Obtaining dependency information for fastdownload<2,>=0.0.5 from https://files.pythonhosted.org/packages/47/60/ed35253a05a70b63e4f52df1daa39a6a464a3e22b0bd060b77f63e2e2b6a/fastdownload-0.0.7-py3-none-any.whl.metadata\n",
      "  Downloading fastdownload-0.0.7-py3-none-any.whl.metadata (5.5 kB)\n",
      "Collecting fastcore<1.8,>=1.5.29 (from fastai)\n",
      "  Obtaining dependency information for fastcore<1.8,>=1.5.29 from https://files.pythonhosted.org/packages/25/40/fb8f383bd725aea40c5a7479904035018d541d6249e0b8f29d8e17eff691/fastcore-1.7.8-py3-none-any.whl.metadata\n",
      "  Downloading fastcore-1.7.8-py3-none-any.whl.metadata (3.5 kB)\n",
      "Requirement already satisfied: torchvision>=0.11 in c:\\users\\semal\\appdata\\roaming\\python\\python311\\site-packages (from fastai) (0.17.2)\n",
      "Requirement already satisfied: matplotlib in c:\\programdata\\anaconda3\\lib\\site-packages (from fastai) (3.7.2)\n",
      "Requirement already satisfied: pandas in c:\\programdata\\anaconda3\\lib\\site-packages (from fastai) (2.0.3)\n",
      "Requirement already satisfied: requests in c:\\programdata\\anaconda3\\lib\\site-packages (from fastai) (2.31.0)\n",
      "Requirement already satisfied: pyyaml in c:\\programdata\\anaconda3\\lib\\site-packages (from fastai) (6.0)\n",
      "Collecting fastprogress>=0.2.4 (from fastai)\n",
      "  Obtaining dependency information for fastprogress>=0.2.4 from https://files.pythonhosted.org/packages/a7/8f/213223fdee199c55db81e2d0c669f30e8285c5be2526c4ed924de39247da/fastprogress-1.0.3-py3-none-any.whl.metadata\n",
      "  Downloading fastprogress-1.0.3-py3-none-any.whl.metadata (5.6 kB)\n",
      "Requirement already satisfied: pillow>=9.0.0 in c:\\programdata\\anaconda3\\lib\\site-packages (from fastai) (9.4.0)\n",
      "Requirement already satisfied: scikit-learn in c:\\programdata\\anaconda3\\lib\\site-packages (from fastai) (1.3.0)\n",
      "Requirement already satisfied: scipy in c:\\programdata\\anaconda3\\lib\\site-packages (from fastai) (1.11.1)\n",
      "Collecting spacy<4 (from fastai)\n",
      "  Obtaining dependency information for spacy<4 from https://files.pythonhosted.org/packages/9d/0e/fe7fcae4e14b82fe8feefb7be2cd76f880d5e994ce5c1c159a47b89fd2cc/spacy-3.7.6-cp311-cp311-win_amd64.whl.metadata\n",
      "  Downloading spacy-3.7.6-cp311-cp311-win_amd64.whl.metadata (27 kB)\n",
      "Requirement already satisfied: torch<2.5,>=1.10 in c:\\users\\semal\\appdata\\roaming\\python\\python311\\site-packages (from fastai) (2.2.2)\n",
      "Collecting spacy-legacy<3.1.0,>=3.0.11 (from spacy<4->fastai)\n",
      "  Obtaining dependency information for spacy-legacy<3.1.0,>=3.0.11 from https://files.pythonhosted.org/packages/c3/55/12e842c70ff8828e34e543a2c7176dac4da006ca6901c9e8b43efab8bc6b/spacy_legacy-3.0.12-py2.py3-none-any.whl.metadata\n",
      "  Downloading spacy_legacy-3.0.12-py2.py3-none-any.whl.metadata (2.8 kB)\n",
      "Collecting spacy-loggers<2.0.0,>=1.0.0 (from spacy<4->fastai)\n",
      "  Obtaining dependency information for spacy-loggers<2.0.0,>=1.0.0 from https://files.pythonhosted.org/packages/33/78/d1a1a026ef3af911159398c939b1509d5c36fe524c7b644f34a5146c4e16/spacy_loggers-1.0.5-py3-none-any.whl.metadata\n",
      "  Downloading spacy_loggers-1.0.5-py3-none-any.whl.metadata (23 kB)\n",
      "Collecting murmurhash<1.1.0,>=0.28.0 (from spacy<4->fastai)\n",
      "  Obtaining dependency information for murmurhash<1.1.0,>=0.28.0 from https://files.pythonhosted.org/packages/71/46/af01a20ec368bd9cb49a1d2df15e3eca113bbf6952cc1f2a47f1c6801a7f/murmurhash-1.0.10-cp311-cp311-win_amd64.whl.metadata\n",
      "  Downloading murmurhash-1.0.10-cp311-cp311-win_amd64.whl.metadata (2.0 kB)\n",
      "Collecting cymem<2.1.0,>=2.0.2 (from spacy<4->fastai)\n",
      "  Obtaining dependency information for cymem<2.1.0,>=2.0.2 from https://files.pythonhosted.org/packages/c1/c3/dd044e6f62a3d317c461f6f0c153c6573ed13025752d779e514000c15dd2/cymem-2.0.8-cp311-cp311-win_amd64.whl.metadata\n",
      "  Downloading cymem-2.0.8-cp311-cp311-win_amd64.whl.metadata (8.6 kB)\n",
      "Collecting preshed<3.1.0,>=3.0.2 (from spacy<4->fastai)\n",
      "  Obtaining dependency information for preshed<3.1.0,>=3.0.2 from https://files.pythonhosted.org/packages/e4/fc/78cdbdb79f5d6d45949e72c32445d6c060977ad50a1dcfc0392622165f7c/preshed-3.0.9-cp311-cp311-win_amd64.whl.metadata\n",
      "  Downloading preshed-3.0.9-cp311-cp311-win_amd64.whl.metadata (2.2 kB)\n",
      "Collecting thinc<8.3.0,>=8.2.2 (from spacy<4->fastai)\n",
      "  Obtaining dependency information for thinc<8.3.0,>=8.2.2 from https://files.pythonhosted.org/packages/5e/0e/5e7b24e046e0725eafc37ded0cd9bfaf789efb894101a7aca8a73dba81de/thinc-8.2.5-cp311-cp311-win_amd64.whl.metadata\n",
      "  Downloading thinc-8.2.5-cp311-cp311-win_amd64.whl.metadata (15 kB)\n",
      "Collecting wasabi<1.2.0,>=0.9.1 (from spacy<4->fastai)\n",
      "  Obtaining dependency information for wasabi<1.2.0,>=0.9.1 from https://files.pythonhosted.org/packages/06/7c/34330a89da55610daa5f245ddce5aab81244321101614751e7537f125133/wasabi-1.1.3-py3-none-any.whl.metadata\n",
      "  Downloading wasabi-1.1.3-py3-none-any.whl.metadata (28 kB)\n",
      "Collecting srsly<3.0.0,>=2.4.3 (from spacy<4->fastai)\n",
      "  Obtaining dependency information for srsly<3.0.0,>=2.4.3 from https://files.pythonhosted.org/packages/eb/f5/e3f29993f673d91623df6413ba64e815dd2676fd7932cbc5e7347402ddae/srsly-2.4.8-cp311-cp311-win_amd64.whl.metadata\n",
      "  Downloading srsly-2.4.8-cp311-cp311-win_amd64.whl.metadata (20 kB)\n",
      "Collecting catalogue<2.1.0,>=2.0.6 (from spacy<4->fastai)\n",
      "  Obtaining dependency information for catalogue<2.1.0,>=2.0.6 from https://files.pythonhosted.org/packages/9e/96/d32b941a501ab566a16358d68b6eb4e4acc373fab3c3c4d7d9e649f7b4bb/catalogue-2.0.10-py3-none-any.whl.metadata\n",
      "  Downloading catalogue-2.0.10-py3-none-any.whl.metadata (14 kB)\n",
      "Collecting weasel<0.5.0,>=0.1.0 (from spacy<4->fastai)\n",
      "  Obtaining dependency information for weasel<0.5.0,>=0.1.0 from https://files.pythonhosted.org/packages/2a/87/abd57374044e1f627f0a905ac33c1a7daab35a3a815abfea4e1bafd3fdb1/weasel-0.4.1-py3-none-any.whl.metadata\n",
      "  Downloading weasel-0.4.1-py3-none-any.whl.metadata (4.6 kB)\n",
      "Collecting typer<1.0.0,>=0.3.0 (from spacy<4->fastai)\n",
      "  Obtaining dependency information for typer<1.0.0,>=0.3.0 from https://files.pythonhosted.org/packages/a8/2b/886d13e742e514f704c33c4caa7df0f3b89e5a25ef8db02aa9ca3d9535d5/typer-0.12.5-py3-none-any.whl.metadata\n",
      "  Downloading typer-0.12.5-py3-none-any.whl.metadata (15 kB)\n",
      "Requirement already satisfied: tqdm<5.0.0,>=4.38.0 in c:\\programdata\\anaconda3\\lib\\site-packages (from spacy<4->fastai) (4.65.0)\n",
      "Requirement already satisfied: pydantic!=1.8,!=1.8.1,<3.0.0,>=1.7.4 in c:\\programdata\\anaconda3\\lib\\site-packages (from spacy<4->fastai) (1.10.8)\n",
      "Requirement already satisfied: jinja2 in c:\\programdata\\anaconda3\\lib\\site-packages (from spacy<4->fastai) (3.1.2)\n",
      "Requirement already satisfied: setuptools in c:\\programdata\\anaconda3\\lib\\site-packages (from spacy<4->fastai) (68.0.0)\n",
      "Collecting langcodes<4.0.0,>=3.2.0 (from spacy<4->fastai)\n",
      "  Obtaining dependency information for langcodes<4.0.0,>=3.2.0 from https://files.pythonhosted.org/packages/58/70/4058ab0ebb082b18d06888e711baed7f33354a5e0b363bb627586d8c323a/langcodes-3.4.0-py3-none-any.whl.metadata\n",
      "  Downloading langcodes-3.4.0-py3-none-any.whl.metadata (29 kB)\n",
      "Requirement already satisfied: numpy>=1.19.0 in c:\\programdata\\anaconda3\\lib\\site-packages (from spacy<4->fastai) (1.24.3)\n",
      "Requirement already satisfied: charset-normalizer<4,>=2 in c:\\programdata\\anaconda3\\lib\\site-packages (from requests->fastai) (2.0.4)\n",
      "Requirement already satisfied: idna<4,>=2.5 in c:\\programdata\\anaconda3\\lib\\site-packages (from requests->fastai) (3.4)\n",
      "Requirement already satisfied: urllib3<3,>=1.21.1 in c:\\programdata\\anaconda3\\lib\\site-packages (from requests->fastai) (1.26.16)\n",
      "Requirement already satisfied: certifi>=2017.4.17 in c:\\programdata\\anaconda3\\lib\\site-packages (from requests->fastai) (2023.7.22)\n",
      "Requirement already satisfied: filelock in c:\\programdata\\anaconda3\\lib\\site-packages (from torch<2.5,>=1.10->fastai) (3.9.0)\n",
      "Requirement already satisfied: typing-extensions>=4.8.0 in c:\\users\\semal\\appdata\\roaming\\python\\python311\\site-packages (from torch<2.5,>=1.10->fastai) (4.11.0)\n",
      "Requirement already satisfied: sympy in c:\\programdata\\anaconda3\\lib\\site-packages (from torch<2.5,>=1.10->fastai) (1.11.1)\n",
      "Requirement already satisfied: networkx in c:\\programdata\\anaconda3\\lib\\site-packages (from torch<2.5,>=1.10->fastai) (3.1)\n",
      "Requirement already satisfied: fsspec in c:\\programdata\\anaconda3\\lib\\site-packages (from torch<2.5,>=1.10->fastai) (2023.4.0)\n",
      "Requirement already satisfied: contourpy>=1.0.1 in c:\\programdata\\anaconda3\\lib\\site-packages (from matplotlib->fastai) (1.0.5)\n",
      "Requirement already satisfied: cycler>=0.10 in c:\\programdata\\anaconda3\\lib\\site-packages (from matplotlib->fastai) (0.11.0)\n",
      "Requirement already satisfied: fonttools>=4.22.0 in c:\\programdata\\anaconda3\\lib\\site-packages (from matplotlib->fastai) (4.25.0)\n",
      "Requirement already satisfied: kiwisolver>=1.0.1 in c:\\programdata\\anaconda3\\lib\\site-packages (from matplotlib->fastai) (1.4.4)\n",
      "Requirement already satisfied: pyparsing<3.1,>=2.3.1 in c:\\programdata\\anaconda3\\lib\\site-packages (from matplotlib->fastai) (3.0.9)\n",
      "Requirement already satisfied: python-dateutil>=2.7 in c:\\programdata\\anaconda3\\lib\\site-packages (from matplotlib->fastai) (2.8.2)\n",
      "Requirement already satisfied: pytz>=2020.1 in c:\\programdata\\anaconda3\\lib\\site-packages (from pandas->fastai) (2023.3.post1)\n",
      "Requirement already satisfied: tzdata>=2022.1 in c:\\programdata\\anaconda3\\lib\\site-packages (from pandas->fastai) (2023.3)\n",
      "Requirement already satisfied: joblib>=1.1.1 in c:\\programdata\\anaconda3\\lib\\site-packages (from scikit-learn->fastai) (1.2.0)\n",
      "Requirement already satisfied: threadpoolctl>=2.0.0 in c:\\programdata\\anaconda3\\lib\\site-packages (from scikit-learn->fastai) (2.2.0)\n",
      "Collecting language-data>=1.2 (from langcodes<4.0.0,>=3.2.0->spacy<4->fastai)\n",
      "  Obtaining dependency information for language-data>=1.2 from https://files.pythonhosted.org/packages/12/5f/139464da89c49afcc8bb97ebad48818a535220ce01b1f24c61fb80dbe4d0/language_data-1.2.0-py3-none-any.whl.metadata\n",
      "  Downloading language_data-1.2.0-py3-none-any.whl.metadata (4.3 kB)\n",
      "Requirement already satisfied: six>=1.5 in c:\\programdata\\anaconda3\\lib\\site-packages (from python-dateutil>=2.7->matplotlib->fastai) (1.16.0)\n",
      "Collecting blis<0.8.0,>=0.7.8 (from thinc<8.3.0,>=8.2.2->spacy<4->fastai)\n",
      "  Obtaining dependency information for blis<0.8.0,>=0.7.8 from https://files.pythonhosted.org/packages/2f/09/da0592c74560cc33396504698122f7a56747c82a5e072ca7d2c3397898e1/blis-0.7.11-cp311-cp311-win_amd64.whl.metadata\n",
      "  Downloading blis-0.7.11-cp311-cp311-win_amd64.whl.metadata (7.6 kB)\n",
      "Collecting confection<1.0.0,>=0.0.1 (from thinc<8.3.0,>=8.2.2->spacy<4->fastai)\n",
      "  Obtaining dependency information for confection<1.0.0,>=0.0.1 from https://files.pythonhosted.org/packages/0c/00/3106b1854b45bd0474ced037dfe6b73b90fe68a68968cef47c23de3d43d2/confection-0.1.5-py3-none-any.whl.metadata\n",
      "  Downloading confection-0.1.5-py3-none-any.whl.metadata (19 kB)\n",
      "Requirement already satisfied: colorama in c:\\programdata\\anaconda3\\lib\\site-packages (from tqdm<5.0.0,>=4.38.0->spacy<4->fastai) (0.4.6)\n",
      "Requirement already satisfied: click>=8.0.0 in c:\\programdata\\anaconda3\\lib\\site-packages (from typer<1.0.0,>=0.3.0->spacy<4->fastai) (8.0.4)\n",
      "Collecting shellingham>=1.3.0 (from typer<1.0.0,>=0.3.0->spacy<4->fastai)\n",
      "  Obtaining dependency information for shellingham>=1.3.0 from https://files.pythonhosted.org/packages/e0/f9/0595336914c5619e5f28a1fb793285925a8cd4b432c9da0a987836c7f822/shellingham-1.5.4-py2.py3-none-any.whl.metadata\n",
      "  Downloading shellingham-1.5.4-py2.py3-none-any.whl.metadata (3.5 kB)\n",
      "Requirement already satisfied: rich>=10.11.0 in c:\\users\\semal\\appdata\\roaming\\python\\python311\\site-packages (from typer<1.0.0,>=0.3.0->spacy<4->fastai) (13.7.1)\n",
      "Collecting cloudpathlib<1.0.0,>=0.7.0 (from weasel<0.5.0,>=0.1.0->spacy<4->fastai)\n",
      "  Obtaining dependency information for cloudpathlib<1.0.0,>=0.7.0 from https://files.pythonhosted.org/packages/4d/4e/f83794cb311019c385d061d9b7a9dc444c7023c5523c3f4161191221429c/cloudpathlib-0.19.0-py3-none-any.whl.metadata\n",
      "  Downloading cloudpathlib-0.19.0-py3-none-any.whl.metadata (14 kB)\n",
      "Requirement already satisfied: smart-open<8.0.0,>=5.2.1 in c:\\programdata\\anaconda3\\lib\\site-packages (from weasel<0.5.0,>=0.1.0->spacy<4->fastai) (5.2.1)\n",
      "Requirement already satisfied: MarkupSafe>=2.0 in c:\\programdata\\anaconda3\\lib\\site-packages (from jinja2->spacy<4->fastai) (2.1.1)\n",
      "Requirement already satisfied: mpmath>=0.19 in c:\\programdata\\anaconda3\\lib\\site-packages (from sympy->torch<2.5,>=1.10->fastai) (1.3.0)\n",
      "Collecting marisa-trie>=0.7.7 (from language-data>=1.2->langcodes<4.0.0,>=3.2.0->spacy<4->fastai)\n",
      "  Obtaining dependency information for marisa-trie>=0.7.7 from https://files.pythonhosted.org/packages/61/28/b93cd14cd422be8fc091bd454dd48edbf0c2333111183db38c8e5a13e468/marisa_trie-1.2.0-cp311-cp311-win_amd64.whl.metadata\n",
      "  Downloading marisa_trie-1.2.0-cp311-cp311-win_amd64.whl.metadata (9.0 kB)\n",
      "Requirement already satisfied: markdown-it-py>=2.2.0 in c:\\programdata\\anaconda3\\lib\\site-packages (from rich>=10.11.0->typer<1.0.0,>=0.3.0->spacy<4->fastai) (2.2.0)\n",
      "Requirement already satisfied: pygments<3.0.0,>=2.13.0 in c:\\programdata\\anaconda3\\lib\\site-packages (from rich>=10.11.0->typer<1.0.0,>=0.3.0->spacy<4->fastai) (2.15.1)\n",
      "Requirement already satisfied: mdurl~=0.1 in c:\\programdata\\anaconda3\\lib\\site-packages (from markdown-it-py>=2.2.0->rich>=10.11.0->typer<1.0.0,>=0.3.0->spacy<4->fastai) (0.1.0)\n",
      "Downloading fastai-2.7.17-py3-none-any.whl (234 kB)\n",
      "   ---------------------------------------- 0.0/234.5 kB ? eta -:--:--\n",
      "   --------------------------------------- 234.5/234.5 kB 14.0 MB/s eta 0:00:00\n",
      "Downloading fastcore-1.7.8-py3-none-any.whl (79 kB)\n",
      "   ---------------------------------------- 0.0/80.0 kB ? eta -:--:--\n",
      "   ---------------------------------------- 80.0/80.0 kB ? eta 0:00:00\n",
      "Downloading fastdownload-0.0.7-py3-none-any.whl (12 kB)\n",
      "Downloading fastprogress-1.0.3-py3-none-any.whl (12 kB)\n",
      "Downloading spacy-3.7.6-cp311-cp311-win_amd64.whl (12.1 MB)\n",
      "   ---------------------------------------- 0.0/12.1 MB ? eta -:--:--\n",
      "   - -------------------------------------- 0.5/12.1 MB 10.2 MB/s eta 0:00:02\n",
      "   -- ------------------------------------- 0.9/12.1 MB 9.4 MB/s eta 0:00:02\n",
      "   ---- ----------------------------------- 1.3/12.1 MB 8.9 MB/s eta 0:00:02\n",
      "   ----- ---------------------------------- 1.6/12.1 MB 9.2 MB/s eta 0:00:02\n",
      "   ------ --------------------------------- 2.0/12.1 MB 8.9 MB/s eta 0:00:02\n",
      "   ------- -------------------------------- 2.4/12.1 MB 8.9 MB/s eta 0:00:02\n",
      "   --------- ------------------------------ 2.7/12.1 MB 9.2 MB/s eta 0:00:02\n",
      "   ---------- ----------------------------- 3.1/12.1 MB 8.9 MB/s eta 0:00:02\n",
      "   ----------- ---------------------------- 3.6/12.1 MB 9.1 MB/s eta 0:00:01\n",
      "   ------------ --------------------------- 3.9/12.1 MB 9.2 MB/s eta 0:00:01\n",
      "   -------------- ------------------------- 4.3/12.1 MB 9.2 MB/s eta 0:00:01\n",
      "   --------------- ------------------------ 4.7/12.1 MB 9.3 MB/s eta 0:00:01\n",
      "   ---------------- ----------------------- 5.1/12.1 MB 9.3 MB/s eta 0:00:01\n",
      "   ------------------ --------------------- 5.5/12.1 MB 9.5 MB/s eta 0:00:01\n",
      "   ------------------- -------------------- 5.9/12.1 MB 9.4 MB/s eta 0:00:01\n",
      "   -------------------- ------------------- 6.3/12.1 MB 9.3 MB/s eta 0:00:01\n",
      "   ---------------------- ----------------- 6.7/12.1 MB 9.3 MB/s eta 0:00:01\n",
      "   ----------------------- ---------------- 7.2/12.1 MB 9.3 MB/s eta 0:00:01\n",
      "   ------------------------ --------------- 7.6/12.1 MB 9.3 MB/s eta 0:00:01\n",
      "   -------------------------- ------------- 8.0/12.1 MB 9.3 MB/s eta 0:00:01\n",
      "   --------------------------- ------------ 8.4/12.1 MB 9.2 MB/s eta 0:00:01\n",
      "   ---------------------------- ----------- 8.7/12.1 MB 9.3 MB/s eta 0:00:01\n",
      "   ------------------------------ --------- 9.1/12.1 MB 9.3 MB/s eta 0:00:01\n",
      "   ------------------------------- -------- 9.6/12.1 MB 9.3 MB/s eta 0:00:01\n",
      "   --------------------------------- ------ 10.0/12.1 MB 9.3 MB/s eta 0:00:01\n",
      "   ---------------------------------- ----- 10.5/12.1 MB 9.2 MB/s eta 0:00:01\n",
      "   ------------------------------------ --- 11.0/12.1 MB 9.4 MB/s eta 0:00:01\n",
      "   ------------------------------------- -- 11.4/12.1 MB 9.2 MB/s eta 0:00:01\n",
      "   ---------------------------------------  11.8/12.1 MB 9.4 MB/s eta 0:00:01\n",
      "   ---------------------------------------  12.1/12.1 MB 9.4 MB/s eta 0:00:01\n",
      "   ---------------------------------------- 12.1/12.1 MB 8.7 MB/s eta 0:00:00\n",
      "Downloading catalogue-2.0.10-py3-none-any.whl (17 kB)\n",
      "Downloading cymem-2.0.8-cp311-cp311-win_amd64.whl (39 kB)\n",
      "Downloading langcodes-3.4.0-py3-none-any.whl (182 kB)\n",
      "   ---------------------------------------- 0.0/182.0 kB ? eta -:--:--\n",
      "   --------------------------------------- 182.0/182.0 kB 10.7 MB/s eta 0:00:00\n",
      "Downloading murmurhash-1.0.10-cp311-cp311-win_amd64.whl (25 kB)\n",
      "Downloading preshed-3.0.9-cp311-cp311-win_amd64.whl (122 kB)\n",
      "   ---------------------------------------- 0.0/122.3 kB ? eta -:--:--\n",
      "   ---------------------------------------- 122.3/122.3 kB 7.0 MB/s eta 0:00:00\n",
      "Downloading spacy_legacy-3.0.12-py2.py3-none-any.whl (29 kB)\n",
      "Downloading spacy_loggers-1.0.5-py3-none-any.whl (22 kB)\n",
      "Downloading srsly-2.4.8-cp311-cp311-win_amd64.whl (479 kB)\n",
      "   ---------------------------------------- 0.0/479.7 kB ? eta -:--:--\n",
      "   ---------------------------------------  471.0/479.7 kB 9.8 MB/s eta 0:00:01\n",
      "   ---------------------------------------- 479.7/479.7 kB 7.6 MB/s eta 0:00:00\n",
      "Downloading thinc-8.2.5-cp311-cp311-win_amd64.whl (1.5 MB)\n",
      "   ---------------------------------------- 0.0/1.5 MB ? eta -:--:--\n",
      "   ----------- ---------------------------- 0.4/1.5 MB 9.2 MB/s eta 0:00:01\n",
      "   ------------------------ --------------- 0.9/1.5 MB 9.4 MB/s eta 0:00:01\n",
      "   ------------------------------------ --- 1.4/1.5 MB 9.5 MB/s eta 0:00:01\n",
      "   ---------------------------------------- 1.5/1.5 MB 8.5 MB/s eta 0:00:00\n",
      "Downloading typer-0.12.5-py3-none-any.whl (47 kB)\n",
      "   ---------------------------------------- 0.0/47.3 kB ? eta -:--:--\n",
      "   ---------------------------------------- 47.3/47.3 kB 2.3 MB/s eta 0:00:00\n",
      "Downloading wasabi-1.1.3-py3-none-any.whl (27 kB)\n",
      "Downloading weasel-0.4.1-py3-none-any.whl (50 kB)\n",
      "   ---------------------------------------- 0.0/50.3 kB ? eta -:--:--\n",
      "   ---------------------------------------- 50.3/50.3 kB ? eta 0:00:00\n",
      "Downloading blis-0.7.11-cp311-cp311-win_amd64.whl (6.6 MB)\n",
      "   ---------------------------------------- 0.0/6.6 MB ? eta -:--:--\n",
      "   -- ------------------------------------- 0.5/6.6 MB 10.0 MB/s eta 0:00:01\n",
      "   ----- ---------------------------------- 0.9/6.6 MB 9.7 MB/s eta 0:00:01\n",
      "   -------- ------------------------------- 1.4/6.6 MB 9.9 MB/s eta 0:00:01\n",
      "   ----------- ---------------------------- 1.8/6.6 MB 9.7 MB/s eta 0:00:01\n",
      "   ------------- -------------------------- 2.2/6.6 MB 9.5 MB/s eta 0:00:01\n",
      "   ---------------- ----------------------- 2.7/6.6 MB 9.5 MB/s eta 0:00:01\n",
      "   ------------------ --------------------- 3.1/6.6 MB 9.5 MB/s eta 0:00:01\n",
      "   --------------------- ------------------ 3.6/6.6 MB 9.5 MB/s eta 0:00:01\n",
      "   ------------------------ --------------- 4.0/6.6 MB 9.5 MB/s eta 0:00:01\n",
      "   --------------------------- ------------ 4.5/6.6 MB 9.5 MB/s eta 0:00:01\n",
      "   ----------------------------- ---------- 4.9/6.6 MB 9.5 MB/s eta 0:00:01\n",
      "   -------------------------------- ------- 5.3/6.6 MB 9.2 MB/s eta 0:00:01\n",
      "   ---------------------------------- ----- 5.7/6.6 MB 9.4 MB/s eta 0:00:01\n",
      "   ------------------------------------- -- 6.1/6.6 MB 9.3 MB/s eta 0:00:01\n",
      "   ---------------------------------------  6.6/6.6 MB 9.2 MB/s eta 0:00:01\n",
      "   ---------------------------------------- 6.6/6.6 MB 8.8 MB/s eta 0:00:00\n",
      "Downloading cloudpathlib-0.19.0-py3-none-any.whl (49 kB)\n",
      "   ---------------------------------------- 0.0/49.4 kB ? eta -:--:--\n",
      "   ---------------------------------------- 49.4/49.4 kB 2.4 MB/s eta 0:00:00\n",
      "Downloading confection-0.1.5-py3-none-any.whl (35 kB)\n",
      "Downloading language_data-1.2.0-py3-none-any.whl (5.4 MB)\n",
      "   ---------------------------------------- 0.0/5.4 MB ? eta -:--:--\n",
      "   --- ------------------------------------ 0.5/5.4 MB 10.9 MB/s eta 0:00:01\n",
      "   ------- -------------------------------- 1.0/5.4 MB 12.2 MB/s eta 0:00:01\n",
      "   ---------- ----------------------------- 1.4/5.4 MB 9.7 MB/s eta 0:00:01\n",
      "   ------------- -------------------------- 1.8/5.4 MB 9.6 MB/s eta 0:00:01\n",
      "   ---------------- ----------------------- 2.2/5.4 MB 9.5 MB/s eta 0:00:01\n",
      "   ------------------- -------------------- 2.6/5.4 MB 9.3 MB/s eta 0:00:01\n",
      "   ----------------------- ---------------- 3.1/5.4 MB 9.5 MB/s eta 0:00:01\n",
      "   -------------------------- ------------- 3.5/5.4 MB 9.4 MB/s eta 0:00:01\n",
      "   ----------------------------- ---------- 4.0/5.4 MB 9.4 MB/s eta 0:00:01\n",
      "   -------------------------------- ------- 4.4/5.4 MB 9.4 MB/s eta 0:00:01\n",
      "   ------------------------------------ --- 4.9/5.4 MB 9.5 MB/s eta 0:00:01\n",
      "   ---------------------------------------  5.3/5.4 MB 9.5 MB/s eta 0:00:01\n",
      "   ---------------------------------------- 5.4/5.4 MB 8.8 MB/s eta 0:00:00\n",
      "Downloading shellingham-1.5.4-py2.py3-none-any.whl (9.8 kB)\n",
      "Downloading marisa_trie-1.2.0-cp311-cp311-win_amd64.whl (152 kB)\n",
      "   ---------------------------------------- 0.0/152.6 kB ? eta -:--:--\n",
      "   ---------------------------------------- 152.6/152.6 kB 9.5 MB/s eta 0:00:00\n",
      "Installing collected packages: cymem, wasabi, spacy-loggers, spacy-legacy, shellingham, murmurhash, marisa-trie, fastprogress, fastcore, cloudpathlib, catalogue, blis, srsly, preshed, language-data, fastdownload, typer, langcodes, confection, weasel, thinc, spacy, fastai\n",
      "Successfully installed blis-0.7.11 catalogue-2.0.10 cloudpathlib-0.19.0 confection-0.1.5 cymem-2.0.8 fastai-2.7.17 fastcore-1.7.8 fastdownload-0.0.7 fastprogress-1.0.3 langcodes-3.4.0 language-data-1.2.0 marisa-trie-1.2.0 murmurhash-1.0.10 preshed-3.0.9 shellingham-1.5.4 spacy-3.7.6 spacy-legacy-3.0.12 spacy-loggers-1.0.5 srsly-2.4.8 thinc-8.2.5 typer-0.12.5 wasabi-1.1.3 weasel-0.4.1\n"
     ]
    },
    {
     "name": "stderr",
     "output_type": "stream",
     "text": [
      "DEPRECATION: Loading egg at c:\\programdata\\anaconda3\\lib\\site-packages\\vboxapi-1.0-py3.11.egg is deprecated. pip 23.3 will enforce this behaviour change. A possible replacement is to use pip for package installation..\n"
     ]
    }
   ],
   "source": [
    "!pip install fastai"
   ]
  },
  {
   "cell_type": "code",
   "execution_count": 5,
   "id": "bebbd5bc",
   "metadata": {},
   "outputs": [],
   "source": [
    "WANDB_PROJECT = \"mlops-course-001\"\n",
    "ENTITY = None\n",
    "BDD_CLASSES = {i:c for i,c in enumerate(['background', 'road', 'traffic light', 'traffic sign', 'person', 'vehicle', 'bicycle'])}\n",
    "RAW_DATA_AT = 'bdd_simple_1k'\n",
    "PROCESSED_DATA_AT = 'bdd_simple_1k_split'"
   ]
  },
  {
   "cell_type": "code",
   "execution_count": 1,
   "id": "a628fcac",
   "metadata": {},
   "outputs": [],
   "source": [
    "from fastai.vision.all import *\n",
    "import wandb"
   ]
  },
  {
   "cell_type": "code",
   "execution_count": 3,
   "id": "0a5c8357",
   "metadata": {},
   "outputs": [],
   "source": [
    "URL = 'https://storage.googleapis.com/wandb_course/bdd_simple_1k.zip'"
   ]
  },
  {
   "cell_type": "code",
   "execution_count": 4,
   "id": "1f0c70db",
   "metadata": {},
   "outputs": [
    {
     "data": {
      "text/html": [
       "\n",
       "<style>\n",
       "    /* Turns off some styling */\n",
       "    progress {\n",
       "        /* gets rid of default border in Firefox and Opera. */\n",
       "        border: none;\n",
       "        /* Needs to be in here for Safari polyfill so background images work as expected. */\n",
       "        background-size: auto;\n",
       "    }\n",
       "    progress:not([value]), progress:not([value])::-webkit-progress-bar {\n",
       "        background: repeating-linear-gradient(45deg, #7e7e7e, #7e7e7e 10px, #5c5c5c 10px, #5c5c5c 20px);\n",
       "    }\n",
       "    .progress-bar-interrupted, .progress-bar-interrupted::-webkit-progress-bar {\n",
       "        background: #F44336;\n",
       "    }\n",
       "</style>\n"
      ],
      "text/plain": [
       "<IPython.core.display.HTML object>"
      ]
     },
     "metadata": {},
     "output_type": "display_data"
    },
    {
     "data": {
      "text/html": [
       "\n",
       "    <div>\n",
       "      <progress value='122470400' class='' max='122467691' style='width:300px; height:20px; vertical-align: middle;'></progress>\n",
       "      100.00% [122470400/122467691 00:22&lt;00:00]\n",
       "    </div>\n",
       "    "
      ],
      "text/plain": [
       "<IPython.core.display.HTML object>"
      ]
     },
     "metadata": {},
     "output_type": "display_data"
    },
    {
     "data": {
      "text/plain": [
       "(#1000) [Path('C:/Users/Semal/.fastai/data/bdd_simple_1k/images/0027eed2-09c90000.jpg'),Path('C:/Users/Semal/.fastai/data/bdd_simple_1k/images/0027eed2-09c90001.jpg'),Path('C:/Users/Semal/.fastai/data/bdd_simple_1k/images/00aad4a0-ee8135fe.jpg'),Path('C:/Users/Semal/.fastai/data/bdd_simple_1k/images/00d79c0a-23befe54.jpg'),Path('C:/Users/Semal/.fastai/data/bdd_simple_1k/images/00e69ee0-9656df95.jpg'),Path('C:/Users/Semal/.fastai/data/bdd_simple_1k/images/00e9be89-00000130.jpg'),Path('C:/Users/Semal/.fastai/data/bdd_simple_1k/images/00e9be89-00000175.jpg'),Path('C:/Users/Semal/.fastai/data/bdd_simple_1k/images/00e9be89-00001025.jpg'),Path('C:/Users/Semal/.fastai/data/bdd_simple_1k/images/00e9be89-00001030.jpg'),Path('C:/Users/Semal/.fastai/data/bdd_simple_1k/images/00e9be89-00001070.jpg')...]"
      ]
     },
     "execution_count": 4,
     "metadata": {},
     "output_type": "execute_result"
    }
   ],
   "source": [
    "path = Path(untar_data(URL, force_download=True))\n",
    "(path/'images').ls()"
   ]
  },
  {
   "cell_type": "code",
   "execution_count": 5,
   "id": "4f0b9611",
   "metadata": {},
   "outputs": [],
   "source": [
    "def label_func(fname):\n",
    "    return (fname.parent.parent/\"labels\")/f\"{fname.stem}_mask.png\"\n",
    "\n",
    "def get_classes_per_image(mask_data, class_labels):\n",
    "    unique = list(np.unique(mask_data))\n",
    "    result_dict = {}\n",
    "    for _class in class_labels.keys():\n",
    "        result_dict[class_labels[_class]] = int(_class in unique)\n",
    "    return result_dict\n",
    "\n",
    "def _create_table(image_files, class_labels):\n",
    "    \"Create a table with the dataset\"\n",
    "    labels = [str(class_labels[_lab]) for _lab in list(class_labels)]\n",
    "    table = wandb.Table(columns=[\"File_Name\", \"P1\", \"P2\", \"Images\", \"Dataset\"] + labels)\n",
    "    \n",
    "    for i, image_file in progress_bar(enumerate(image_files), total=len(image_files)):\n",
    "        image = Image.open(image_file)\n",
    "        mask_data = np.array(Image.open(label_func(image_file)))\n",
    "        class_in_image = get_classes_per_image(mask_data, class_labels)\n",
    "        table.add_data(\n",
    "            image_file.stem,\n",
    "            image_file.stem.split('-')[0],\n",
    "            image_file.stem.split('-')[1],\n",
    "            wandb.Image(\n",
    "                    image,\n",
    "                    masks={\n",
    "                        \"predictions\": {\n",
    "                            \"mask_data\": mask_data,\n",
    "                            \"class_labels\": class_labels,\n",
    "                        }\n",
    "                    }\n",
    "            ),\n",
    "            \"bdd1k\", \n",
    "            *[class_in_image[_lab] for _lab in labels]\n",
    "        )\n",
    "    \n",
    "    return table"
   ]
  },
  {
   "cell_type": "code",
   "execution_count": 6,
   "id": "46c7c8ec",
   "metadata": {},
   "outputs": [
    {
     "name": "stderr",
     "output_type": "stream",
     "text": [
      "\u001b[34m\u001b[1mwandb\u001b[0m: Using wandb-core as the SDK backend. Please refer to https://wandb.me/wandb-core for more information.\n",
      "\u001b[34m\u001b[1mwandb\u001b[0m: Currently logged in as: \u001b[33msemaljohari80\u001b[0m. Use \u001b[1m`wandb login --relogin`\u001b[0m to force relogin\n"
     ]
    },
    {
     "data": {
      "text/html": [
       "Tracking run with wandb version 0.18.1"
      ],
      "text/plain": [
       "<IPython.core.display.HTML object>"
      ]
     },
     "metadata": {},
     "output_type": "display_data"
    },
    {
     "data": {
      "text/html": [
       "Run data is saved locally in <code>C:\\Users\\Semal\\Desktop\\My Folder\\Autonomous vehicle perception\\wandb\\run-20241029_172618-ied993pi</code>"
      ],
      "text/plain": [
       "<IPython.core.display.HTML object>"
      ]
     },
     "metadata": {},
     "output_type": "display_data"
    },
    {
     "data": {
      "text/html": [
       "Syncing run <strong><a href='https://wandb.ai/semaljohari80/mlops-course-001/runs/ied993pi' target=\"_blank\">vital-river-6</a></strong> to <a href='https://wandb.ai/semaljohari80/mlops-course-001' target=\"_blank\">Weights & Biases</a> (<a href='https://wandb.me/run' target=\"_blank\">docs</a>)<br/>"
      ],
      "text/plain": [
       "<IPython.core.display.HTML object>"
      ]
     },
     "metadata": {},
     "output_type": "display_data"
    },
    {
     "data": {
      "text/html": [
       " View project at <a href='https://wandb.ai/semaljohari80/mlops-course-001' target=\"_blank\">https://wandb.ai/semaljohari80/mlops-course-001</a>"
      ],
      "text/plain": [
       "<IPython.core.display.HTML object>"
      ]
     },
     "metadata": {},
     "output_type": "display_data"
    },
    {
     "data": {
      "text/html": [
       " View run at <a href='https://wandb.ai/semaljohari80/mlops-course-001/runs/ied993pi' target=\"_blank\">https://wandb.ai/semaljohari80/mlops-course-001/runs/ied993pi</a>"
      ],
      "text/plain": [
       "<IPython.core.display.HTML object>"
      ]
     },
     "metadata": {},
     "output_type": "display_data"
    }
   ],
   "source": [
    "run = wandb.init(project=WANDB_PROJECT, entity=ENTITY, job_type=\"upload\")"
   ]
  },
  {
   "cell_type": "code",
   "execution_count": 7,
   "id": "7ff80989",
   "metadata": {},
   "outputs": [],
   "source": [
    "artifact = wandb.Artifact(RAW_DATA_AT, type=\"raw_data\")"
   ]
  },
  {
   "cell_type": "code",
   "execution_count": 8,
   "id": "dfcb4bb8",
   "metadata": {},
   "outputs": [
    {
     "data": {
      "text/plain": [
       "ArtifactManifestEntry(path='LICENSE.txt', digest='X+6ZFkDOlnKesJCNt20yRg==', size=1594, local_path='C:\\\\Users\\\\Semal\\\\AppData\\\\Local\\\\wandb\\\\wandb\\\\artifacts\\\\staging\\\\tmpl8cxy4ew', skip_cache=False)"
      ]
     },
     "execution_count": 8,
     "metadata": {},
     "output_type": "execute_result"
    }
   ],
   "source": [
    "artifact.add_file(path/\"LICENSE.txt\", name=\"LICENSE.txt\")"
   ]
  },
  {
   "cell_type": "code",
   "execution_count": 9,
   "id": "b3aea639",
   "metadata": {},
   "outputs": [
    {
     "name": "stderr",
     "output_type": "stream",
     "text": [
      "\u001b[34m\u001b[1mwandb\u001b[0m: Adding directory to artifact (C:\\Users\\Semal\\.fastai\\data\\bdd_simple_1k\\images)... Done. 7.3s\n",
      "\u001b[34m\u001b[1mwandb\u001b[0m: Adding directory to artifact (C:\\Users\\Semal\\.fastai\\data\\bdd_simple_1k\\labels)... Done. 5.3s\n"
     ]
    }
   ],
   "source": [
    "artifact.add_dir(path/'images', name='images')\n",
    "artifact.add_dir(path/'labels', name='labels')"
   ]
  },
  {
   "cell_type": "code",
   "execution_count": 10,
   "id": "82f3d9d7",
   "metadata": {},
   "outputs": [],
   "source": [
    "image_files = get_image_files(path/'images', recurse=False)"
   ]
  },
  {
   "cell_type": "code",
   "execution_count": 11,
   "id": "c1d26cf5",
   "metadata": {},
   "outputs": [
    {
     "data": {
      "text/html": [
       "\n",
       "<style>\n",
       "    /* Turns off some styling */\n",
       "    progress {\n",
       "        /* gets rid of default border in Firefox and Opera. */\n",
       "        border: none;\n",
       "        /* Needs to be in here for Safari polyfill so background images work as expected. */\n",
       "        background-size: auto;\n",
       "    }\n",
       "    progress:not([value]), progress:not([value])::-webkit-progress-bar {\n",
       "        background: repeating-linear-gradient(45deg, #7e7e7e, #7e7e7e 10px, #5c5c5c 10px, #5c5c5c 20px);\n",
       "    }\n",
       "    .progress-bar-interrupted, .progress-bar-interrupted::-webkit-progress-bar {\n",
       "        background: #F44336;\n",
       "    }\n",
       "</style>\n"
      ],
      "text/plain": [
       "<IPython.core.display.HTML object>"
      ]
     },
     "metadata": {},
     "output_type": "display_data"
    },
    {
     "data": {
      "text/html": [
       "\n",
       "    <div>\n",
       "      <progress value='1000' class='' max='1000' style='width:300px; height:20px; vertical-align: middle;'></progress>\n",
       "      100.00% [1000/1000 07:04&lt;00:00]\n",
       "    </div>\n",
       "    "
      ],
      "text/plain": [
       "<IPython.core.display.HTML object>"
      ]
     },
     "metadata": {},
     "output_type": "display_data"
    }
   ],
   "source": [
    "table = _create_table(image_files, BDD_CLASSES)"
   ]
  },
  {
   "cell_type": "code",
   "execution_count": 12,
   "id": "97f5c4dd",
   "metadata": {},
   "outputs": [
    {
     "data": {
      "text/plain": [
       "ArtifactManifestEntry(path='eda_table.table.json', digest='cjU2t62ro9oLsYNywMzsCQ==', size=610046, local_path='C:\\\\Users\\\\Semal\\\\AppData\\\\Local\\\\wandb\\\\wandb\\\\artifacts\\\\staging\\\\tmp8rtiduox', skip_cache=False)"
      ]
     },
     "execution_count": 12,
     "metadata": {},
     "output_type": "execute_result"
    }
   ],
   "source": [
    "artifact.add(table, \"eda_table\")"
   ]
  },
  {
   "cell_type": "code",
   "execution_count": 13,
   "id": "1a90b7f2",
   "metadata": {},
   "outputs": [
    {
     "data": {
      "text/plain": [
       "<Artifact bdd_simple_1k>"
      ]
     },
     "execution_count": 13,
     "metadata": {},
     "output_type": "execute_result"
    }
   ],
   "source": [
    "run.log_artifact(artifact)"
   ]
  },
  {
   "cell_type": "code",
   "execution_count": 14,
   "id": "32fe930c",
   "metadata": {},
   "outputs": [
    {
     "data": {
      "application/vnd.jupyter.widget-view+json": {
       "model_id": "",
       "version_major": 2,
       "version_minor": 0
      },
      "text/plain": [
       "VBox(children=(Label(value='0.008 MB of 0.008 MB uploaded\\r'), FloatProgress(value=1.0, max=1.0)))"
      ]
     },
     "metadata": {},
     "output_type": "display_data"
    },
    {
     "data": {
      "text/html": [
       " View run <strong style=\"color:#cdcd00\">vital-river-6</strong> at: <a href='https://wandb.ai/semaljohari80/mlops-course-001/runs/ied993pi' target=\"_blank\">https://wandb.ai/semaljohari80/mlops-course-001/runs/ied993pi</a><br/> View project at: <a href='https://wandb.ai/semaljohari80/mlops-course-001' target=\"_blank\">https://wandb.ai/semaljohari80/mlops-course-001</a><br/>Synced 5 W&B file(s), 0 media file(s), 0 artifact file(s) and 0 other file(s)"
      ],
      "text/plain": [
       "<IPython.core.display.HTML object>"
      ]
     },
     "metadata": {},
     "output_type": "display_data"
    },
    {
     "data": {
      "text/html": [
       "Find logs at: <code>.\\wandb\\run-20241029_172618-ied993pi\\logs</code>"
      ],
      "text/plain": [
       "<IPython.core.display.HTML object>"
      ]
     },
     "metadata": {},
     "output_type": "display_data"
    }
   ],
   "source": [
    "run.finish()"
   ]
  },
  {
   "cell_type": "markdown",
   "id": "ebf0c5d0",
   "metadata": {},
   "source": [
    "# Data Preparation"
   ]
  },
  {
   "cell_type": "code",
   "execution_count": null,
   "id": "381a2f6c",
   "metadata": {},
   "outputs": [],
   "source": [
    "import os, warnings\n",
    "import pandas as pd\n",
    "from sklearn.model_selection import StratifiedGroupKFold\n",
    "warnings.filterwarnings('ignore')"
   ]
  },
  {
   "cell_type": "code",
   "execution_count": 61,
   "id": "e63761ae",
   "metadata": {},
   "outputs": [
    {
     "data": {
      "text/html": [
       "Finishing last run (ID:5l2wcoqw) before initializing another..."
      ],
      "text/plain": [
       "<IPython.core.display.HTML object>"
      ]
     },
     "metadata": {},
     "output_type": "display_data"
    },
    {
     "data": {
      "application/vnd.jupyter.widget-view+json": {
       "model_id": "",
       "version_major": 2,
       "version_minor": 0
      },
      "text/plain": [
       "VBox(children=(Label(value='0.009 MB of 0.009 MB uploaded\\r'), FloatProgress(value=1.0, max=1.0)))"
      ]
     },
     "metadata": {},
     "output_type": "display_data"
    },
    {
     "data": {
      "text/html": [
       "<style>\n",
       "    table.wandb td:nth-child(1) { padding: 0 10px; text-align: left ; width: auto;} td:nth-child(2) {text-align: left ; width: 100%}\n",
       "    .wandb-row { display: flex; flex-direction: row; flex-wrap: wrap; justify-content: flex-start; width: 100% }\n",
       "    .wandb-col { display: flex; flex-direction: column; flex-basis: 100%; flex: 1; padding: 10px; }\n",
       "    </style>\n",
       "<div class=\"wandb-row\"><div class=\"wandb-col\"><h3>Run history:</h3><br/><table class=\"wandb\"><tr><td>background_iou</td><td>▂▁▆▇█</td></tr><tr><td>bicycle_iou</td><td>▁▁▁▁▁</td></tr><tr><td>epoch</td><td>▁▁▁▁▁▂▂▂▂▂▂▃▃▃▃▃▃▃▄▄▄▅▅▅▅▅▅▅▆▆▆▆▇▇▇▇▇███</td></tr><tr><td>eps_0</td><td>▁▁▁▁▁▁▁▁▁▁▁▁▁▁▁▁▁▁▁▁▁▁▁▁▁▁▁▁▁▁▁▁▁▁▁▁▁▁▁▁</td></tr><tr><td>eps_1</td><td>▁▁▁▁▁▁▁▁▁▁▁▁▁▁▁▁▁▁▁▁▁▁▁▁▁▁▁▁▁▁▁▁▁▁▁▁▁▁▁▁</td></tr><tr><td>eps_2</td><td>▁▁▁▁▁▁▁▁▁▁▁▁▁▁▁▁▁▁▁▁▁▁▁▁▁▁▁▁▁▁▁▁▁▁▁▁▁▁▁▁</td></tr><tr><td>lr_0</td><td>▁▁▂▂▂▄▄▄▆▆█████████████████▇▇▇▇▇▇▇▇▇▆▆▆▆</td></tr><tr><td>lr_1</td><td>▁▁▂▂▂▃▃▄▄▅▇▇█████████████▇▇▇▇▇▇▇▆▆▆▆▆▆▆▆</td></tr><tr><td>lr_2</td><td>▁▁▂▂▃▅▅▅▆▆▇▇▇█████████████▇▇▇▇▇▇▇▇▆▆▆▆▆▆</td></tr><tr><td>miou</td><td>▂▁▆▇█</td></tr><tr><td>mom_0</td><td>████████▇▇▆▅▅▅▅▄▄▃▂▁▁▁▁▁▁▁▁▁▁▁▂▂▂▂▂▂▃▃▃▃</td></tr><tr><td>mom_1</td><td>█▆▄▄▄▃▃▂▂▂▂▁▁▁▁▁▁▁▁▁▁▁▁▁▁▁▁▁▁▁▂▂▂▂▂▂▃▃▃▃</td></tr><tr><td>mom_2</td><td>█████▇▇▇▆▆▅▅▃▃▂▁▁▁▁▁▁▁▁▁▁▁▁▁▂▂▂▂▂▂▂▃▃▃▃▃</td></tr><tr><td>person_iou</td><td>▁▁▁▁▁</td></tr><tr><td>raw_loss</td><td>█▃▄▃▂▂▃▂▂▂▃▃▂▂▂▂▂▂▃▂▂▂▃▁▂▂▂▂▁▁▁▂▁▃▂▂▁▁▁▁</td></tr><tr><td>road_iou</td><td>▁▂▇▇█</td></tr><tr><td>sqr_mom_0</td><td>▁▁▁▁▁▁▁▁▁▁▁▁▁▁▁▁▁▁▁▁▁▁▁▁▁▁▁▁▁▁▁▁▁▁▁▁▁▁▁▁</td></tr><tr><td>sqr_mom_1</td><td>▁▁▁▁▁▁▁▁▁▁▁▁▁▁▁▁▁▁▁▁▁▁▁▁▁▁▁▁▁▁▁▁▁▁▁▁▁▁▁▁</td></tr><tr><td>sqr_mom_2</td><td>▁▁▁▁▁▁▁▁▁▁▁▁▁▁▁▁▁▁▁▁▁▁▁▁▁▁▁▁▁▁▁▁▁▁▁▁▁▁▁▁</td></tr><tr><td>traffic_light_iou</td><td>▁▁▁▁▁</td></tr><tr><td>traffic_sign_iou</td><td>▁▁▁▁▁</td></tr><tr><td>train_loss</td><td>█▅▄▃▃▂▂▂▂▂▂▂▂▁▁▁▁▁▁▁▁▁▁▁▁▁▁▁▁▁▁▁▁▁▁▁▁▁▁▁</td></tr><tr><td>train_samples_per_sec</td><td>▁▄▄▄▂▅▃▇▃▁▆▅▄▄▃▇▆▇▆▅▇▇▇▇▇▆▆█▇▇▄▄▆▆▅█▇▄▄▆</td></tr><tr><td>valid_loss</td><td>▆█▅▂▁</td></tr><tr><td>vehicle_iou</td><td>▃▁▅▇█</td></tr><tr><td>wd_0</td><td>▁▁▁▁▁▁▁▁▁▁▁▁▁▁▁▁▁▁▁▁▁▁▁▁▁▁▁▁▁▁▁▁▁▁▁▁▁▁▁▁</td></tr><tr><td>wd_1</td><td>▁▁▁▁▁▁▁▁▁▁▁▁▁▁▁▁▁▁▁▁▁▁▁▁▁▁▁▁▁▁▁▁▁▁▁▁▁▁▁▁</td></tr><tr><td>wd_2</td><td>▁▁▁▁▁▁▁▁▁▁▁▁▁▁▁▁▁▁▁▁▁▁▁▁▁▁▁▁▁▁▁▁▁▁▁▁▁▁▁▁</td></tr></table><br/></div><div class=\"wandb-col\"><h3>Run summary:</h3><br/><table class=\"wandb\"><tr><td>background_iou</td><td>0.90449</td></tr><tr><td>bicycle_iou</td><td>0</td></tr><tr><td>epoch</td><td>5.39</td></tr><tr><td>eps_0</td><td>1e-05</td></tr><tr><td>eps_1</td><td>1e-05</td></tr><tr><td>eps_2</td><td>1e-05</td></tr><tr><td>lr_0</td><td>0.00136</td></tr><tr><td>lr_1</td><td>0.00136</td></tr><tr><td>lr_2</td><td>0.00136</td></tr><tr><td>miou</td><td>0.34858</td></tr><tr><td>mom_0</td><td>0.88218</td></tr><tr><td>mom_1</td><td>0.88218</td></tr><tr><td>mom_2</td><td>0.88218</td></tr><tr><td>person_iou</td><td>0</td></tr><tr><td>raw_loss</td><td>0.23891</td></tr><tr><td>road_iou</td><td>0.81612</td></tr><tr><td>sqr_mom_0</td><td>0.99</td></tr><tr><td>sqr_mom_1</td><td>0.99</td></tr><tr><td>sqr_mom_2</td><td>0.99</td></tr><tr><td>traffic_light_iou</td><td>0</td></tr><tr><td>traffic_sign_iou</td><td>0</td></tr><tr><td>train_loss</td><td>0.25497</td></tr><tr><td>train_samples_per_sec</td><td>0.19742</td></tr><tr><td>valid_loss</td><td>0.24764</td></tr><tr><td>vehicle_iou</td><td>0.71948</td></tr><tr><td>wd_0</td><td>0.01</td></tr><tr><td>wd_1</td><td>0.01</td></tr><tr><td>wd_2</td><td>0.01</td></tr></table><br/></div></div>"
      ],
      "text/plain": [
       "<IPython.core.display.HTML object>"
      ]
     },
     "metadata": {},
     "output_type": "display_data"
    },
    {
     "data": {
      "text/html": [
       " View run <strong style=\"color:#cdcd00\">light-lake-10</strong> at: <a href='https://wandb.ai/semaljohari80/mlops-course-001/runs/5l2wcoqw' target=\"_blank\">https://wandb.ai/semaljohari80/mlops-course-001/runs/5l2wcoqw</a><br/> View project at: <a href='https://wandb.ai/semaljohari80/mlops-course-001' target=\"_blank\">https://wandb.ai/semaljohari80/mlops-course-001</a><br/>Synced 5 W&B file(s), 0 media file(s), 0 artifact file(s) and 0 other file(s)"
      ],
      "text/plain": [
       "<IPython.core.display.HTML object>"
      ]
     },
     "metadata": {},
     "output_type": "display_data"
    },
    {
     "data": {
      "text/html": [
       "Find logs at: <code>.\\wandb\\run-20241030_002937-5l2wcoqw\\logs</code>"
      ],
      "text/plain": [
       "<IPython.core.display.HTML object>"
      ]
     },
     "metadata": {},
     "output_type": "display_data"
    },
    {
     "data": {
      "text/html": [
       "Successfully finished last run (ID:5l2wcoqw). Initializing new run:<br/>"
      ],
      "text/plain": [
       "<IPython.core.display.HTML object>"
      ]
     },
     "metadata": {},
     "output_type": "display_data"
    },
    {
     "data": {
      "text/html": [
       "Tracking run with wandb version 0.18.1"
      ],
      "text/plain": [
       "<IPython.core.display.HTML object>"
      ]
     },
     "metadata": {},
     "output_type": "display_data"
    },
    {
     "data": {
      "text/html": [
       "Run data is saved locally in <code>C:\\Users\\Semal\\Desktop\\My Folder\\Autonomous_vehicle_perception\\wandb\\run-20241030_131927-3nin5twn</code>"
      ],
      "text/plain": [
       "<IPython.core.display.HTML object>"
      ]
     },
     "metadata": {},
     "output_type": "display_data"
    },
    {
     "data": {
      "text/html": [
       "Syncing run <strong><a href='https://wandb.ai/semaljohari80/mlops-course-001/runs/3nin5twn' target=\"_blank\">moonlit-hex-11</a></strong> to <a href='https://wandb.ai/semaljohari80/mlops-course-001' target=\"_blank\">Weights & Biases</a> (<a href='https://wandb.me/run' target=\"_blank\">docs</a>)<br/>"
      ],
      "text/plain": [
       "<IPython.core.display.HTML object>"
      ]
     },
     "metadata": {},
     "output_type": "display_data"
    },
    {
     "data": {
      "text/html": [
       " View project at <a href='https://wandb.ai/semaljohari80/mlops-course-001' target=\"_blank\">https://wandb.ai/semaljohari80/mlops-course-001</a>"
      ],
      "text/plain": [
       "<IPython.core.display.HTML object>"
      ]
     },
     "metadata": {},
     "output_type": "display_data"
    },
    {
     "data": {
      "text/html": [
       " View run at <a href='https://wandb.ai/semaljohari80/mlops-course-001/runs/3nin5twn' target=\"_blank\">https://wandb.ai/semaljohari80/mlops-course-001/runs/3nin5twn</a>"
      ],
      "text/plain": [
       "<IPython.core.display.HTML object>"
      ]
     },
     "metadata": {},
     "output_type": "display_data"
    }
   ],
   "source": [
    "run = wandb.init(project=WANDB_PROJECT, entity=ENTITY, job_type=\"data_split\")"
   ]
  },
  {
   "cell_type": "code",
   "execution_count": 62,
   "id": "2755dd77",
   "metadata": {},
   "outputs": [
    {
     "name": "stderr",
     "output_type": "stream",
     "text": [
      "\u001b[34m\u001b[1mwandb\u001b[0m: Downloading large artifact bdd_simple_1k:latest, 813.77MB. 4007 files... \n",
      "\u001b[34m\u001b[1mwandb\u001b[0m:   4007 of 4007 files downloaded.  \n",
      "Done. 0:0:20.7\n"
     ]
    }
   ],
   "source": [
    "raw_data_at = run.use_artifact(f'{RAW_DATA_AT}:latest')\n",
    "path = Path(raw_data_at.download())"
   ]
  },
  {
   "cell_type": "code",
   "execution_count": 63,
   "id": "d5dcb820",
   "metadata": {},
   "outputs": [
    {
     "data": {
      "text/plain": [
       "(#5) [Path('C:/Users/Semal/Desktop/My Folder/Autonomous_vehicle_perception/artifacts/bdd_simple_1k-v0/eda_table.table.json'),Path('C:/Users/Semal/Desktop/My Folder/Autonomous_vehicle_perception/artifacts/bdd_simple_1k-v0/images'),Path('C:/Users/Semal/Desktop/My Folder/Autonomous_vehicle_perception/artifacts/bdd_simple_1k-v0/labels'),Path('C:/Users/Semal/Desktop/My Folder/Autonomous_vehicle_perception/artifacts/bdd_simple_1k-v0/LICENSE.txt'),Path('C:/Users/Semal/Desktop/My Folder/Autonomous_vehicle_perception/artifacts/bdd_simple_1k-v0/media')]"
      ]
     },
     "execution_count": 63,
     "metadata": {},
     "output_type": "execute_result"
    }
   ],
   "source": [
    "path.ls()"
   ]
  },
  {
   "cell_type": "code",
   "execution_count": 64,
   "id": "aebfba7b",
   "metadata": {},
   "outputs": [
    {
     "name": "stderr",
     "output_type": "stream",
     "text": [
      "\u001b[34m\u001b[1mwandb\u001b[0m: Downloading large artifact bdd_simple_1k:latest, 813.77MB. 4007 files... \n",
      "\u001b[34m\u001b[1mwandb\u001b[0m:   4007 of 4007 files downloaded.  \n",
      "Done. 0:0:15.7\n"
     ]
    }
   ],
   "source": [
    "original_eda_table = raw_data_at.get(\"eda_table\")"
   ]
  },
  {
   "cell_type": "code",
   "execution_count": 65,
   "id": "234ff038",
   "metadata": {},
   "outputs": [],
   "source": [
    "fnames = original_eda_table.get_column(\"File_Name\")\n",
    "groups = [s.split('-')[0] for s in fnames]\n",
    "y = original_eda_table.get_column(\"bicycle\")"
   ]
  },
  {
   "cell_type": "code",
   "execution_count": 66,
   "id": "c307d4c2",
   "metadata": {},
   "outputs": [],
   "source": [
    "df = pd.DataFrame()\n",
    "df['File_Name'] = fnames\n",
    "df['fold'] = -1"
   ]
  },
  {
   "cell_type": "code",
   "execution_count": 67,
   "id": "25593950",
   "metadata": {},
   "outputs": [],
   "source": [
    "cv = StratifiedGroupKFold(n_splits=10)\n",
    "for i, (train_idxs, test_idxs) in enumerate(cv.split(fnames, y, groups)):\n",
    "    df.loc[test_idxs, ['fold']] = i"
   ]
  },
  {
   "cell_type": "code",
   "execution_count": 68,
   "id": "d63f014b",
   "metadata": {},
   "outputs": [
    {
     "data": {
      "text/plain": [
       "Stage\n",
       "train    800\n",
       "test     100\n",
       "valid    100\n",
       "Name: count, dtype: int64"
      ]
     },
     "execution_count": 68,
     "metadata": {},
     "output_type": "execute_result"
    }
   ],
   "source": [
    "df['Stage'] = 'train'\n",
    "df.loc[df.fold == 0, ['Stage']] = 'test'\n",
    "df.loc[df.fold == 1, ['Stage']] = 'valid'\n",
    "del df['fold']\n",
    "df.Stage.value_counts()"
   ]
  },
  {
   "cell_type": "code",
   "execution_count": 69,
   "id": "552bd654",
   "metadata": {},
   "outputs": [],
   "source": [
    "df.to_csv('data_split.csv', index=False)"
   ]
  },
  {
   "cell_type": "code",
   "execution_count": 70,
   "id": "98486817",
   "metadata": {},
   "outputs": [],
   "source": [
    "processed_data_at = wandb.Artifact(PROCESSED_DATA_AT, type=\"split_data\")"
   ]
  },
  {
   "cell_type": "code",
   "execution_count": 71,
   "id": "9faadaad",
   "metadata": {},
   "outputs": [
    {
     "name": "stderr",
     "output_type": "stream",
     "text": [
      "\u001b[34m\u001b[1mwandb\u001b[0m: Adding directory to artifact (C:\\Users\\Semal\\Desktop\\My Folder\\Autonomous_vehicle_perception\\artifacts\\bdd_simple_1k-v0)... Done. 33.7s\n"
     ]
    }
   ],
   "source": [
    "processed_data_at.add_file('data_split.csv')\n",
    "processed_data_at.add_dir(path)"
   ]
  },
  {
   "cell_type": "code",
   "execution_count": 72,
   "id": "32df6cb5",
   "metadata": {},
   "outputs": [],
   "source": [
    "data_split_table = wandb.Table(dataframe=df[[\"File_Name\", \"Stage\"]])"
   ]
  },
  {
   "cell_type": "code",
   "execution_count": 73,
   "id": "b8b16670",
   "metadata": {},
   "outputs": [],
   "source": [
    "join_table = wandb.JoinedTable(original_eda_table, data_split_table, \"File_Name\")"
   ]
  },
  {
   "cell_type": "code",
   "execution_count": 74,
   "id": "c39fc37a",
   "metadata": {},
   "outputs": [
    {
     "data": {
      "text/plain": [
       "ArtifactManifestEntry(path='eda_table_data_split.joined-table.json', digest='RP3GwAqHdNFbNLo90M0bJw==', size=125, local_path='C:\\\\Users\\\\Semal\\\\AppData\\\\Local\\\\wandb\\\\wandb\\\\artifacts\\\\staging\\\\tmpqcxx5elf', skip_cache=False)"
      ]
     },
     "execution_count": 74,
     "metadata": {},
     "output_type": "execute_result"
    }
   ],
   "source": [
    "processed_data_at.add(join_table, \"eda_table_data_split\")"
   ]
  },
  {
   "cell_type": "code",
   "execution_count": 75,
   "id": "33222b1f",
   "metadata": {},
   "outputs": [
    {
     "data": {
      "application/vnd.jupyter.widget-view+json": {
       "model_id": "",
       "version_major": 2,
       "version_minor": 0
      },
      "text/plain": [
       "VBox(children=(Label(value='0.008 MB of 0.008 MB uploaded\\r'), FloatProgress(value=1.0, max=1.0)))"
      ]
     },
     "metadata": {},
     "output_type": "display_data"
    },
    {
     "data": {
      "text/html": [
       " View run <strong style=\"color:#cdcd00\">moonlit-hex-11</strong> at: <a href='https://wandb.ai/semaljohari80/mlops-course-001/runs/3nin5twn' target=\"_blank\">https://wandb.ai/semaljohari80/mlops-course-001/runs/3nin5twn</a><br/> View project at: <a href='https://wandb.ai/semaljohari80/mlops-course-001' target=\"_blank\">https://wandb.ai/semaljohari80/mlops-course-001</a><br/>Synced 5 W&B file(s), 0 media file(s), 2 artifact file(s) and 0 other file(s)"
      ],
      "text/plain": [
       "<IPython.core.display.HTML object>"
      ]
     },
     "metadata": {},
     "output_type": "display_data"
    },
    {
     "data": {
      "text/html": [
       "Find logs at: <code>.\\wandb\\run-20241030_131927-3nin5twn\\logs</code>"
      ],
      "text/plain": [
       "<IPython.core.display.HTML object>"
      ]
     },
     "metadata": {},
     "output_type": "display_data"
    }
   ],
   "source": [
    "run.log_artifact(processed_data_at)\n",
    "run.finish()"
   ]
  },
  {
   "cell_type": "markdown",
   "id": "c67c061e",
   "metadata": {},
   "source": [
    "# Model Training"
   ]
  },
  {
   "cell_type": "code",
   "execution_count": 76,
   "id": "e4b8d29f",
   "metadata": {},
   "outputs": [],
   "source": [
    "from fastai.callback.wandb import WandbCallback"
   ]
  },
  {
   "cell_type": "code",
   "execution_count": 77,
   "id": "81dcdb21",
   "metadata": {},
   "outputs": [],
   "source": [
    "from sklearn.metrics import ConfusionMatrixDisplay\n",
    "from IPython.display import display, Markdown\n",
    "\n",
    "CLASS_INDEX = {v:k for k,v in BDD_CLASSES.items()}\n",
    "\n",
    "def iou_per_class(inp, targ):\n",
    "    \"Compute iou per class\"\n",
    "    iou_scores = []\n",
    "    for c in range(inp.shape[0]):\n",
    "        dec_preds = inp.argmax(dim=0)\n",
    "        p = torch.where(dec_preds == c, 1, 0)\n",
    "        t = torch.where(targ == c, 1, 0)\n",
    "        c_inter = (p * t).float().sum().item()\n",
    "        c_union = (p + t).float().sum().item()\n",
    "        iou_scores.append(c_inter / (c_union - c_inter) if c_union > 0 else np.nan)\n",
    "    return iou_scores\n",
    "\n",
    "def create_row(sample, pred_label, prediction, class_labels):\n",
    "    \"\"\"\"A simple function to create a row of (img, target, prediction, and scores...)\"\"\"\n",
    "    (image, label) = sample\n",
    "    # compute metrics\n",
    "    iou_scores = iou_per_class(prediction, label)\n",
    "    image = image.permute(1, 2, 0)\n",
    "    row =[wandb.Image(\n",
    "                image,\n",
    "                masks={\n",
    "                    \"predictions\": {\n",
    "                        \"mask_data\": pred_label[0].numpy(),\n",
    "                        \"class_labels\": class_labels,\n",
    "                    },\n",
    "                    \"ground_truths\": {\n",
    "                        \"mask_data\": label.numpy(),\n",
    "                        \"class_labels\": class_labels,\n",
    "                    },\n",
    "                },\n",
    "            ),\n",
    "            *iou_scores,\n",
    "    ]\n",
    "    return row\n",
    "\n",
    "def create_iou_table(samples, outputs, predictions, class_labels):\n",
    "    \"Creates a wandb table with predictions and targets side by side\"\n",
    "\n",
    "    def _to_str(l):\n",
    "        return [f'{str(x)} IoU' for x in l]\n",
    "    \n",
    "    items = list(zip(samples, outputs, predictions))\n",
    "    \n",
    "    table = wandb.Table(\n",
    "        columns=[\"Image\"]\n",
    "        + _to_str(class_labels.values()),\n",
    "    )\n",
    "    # we create one row per sample\n",
    "    for item in progress_bar(items):\n",
    "        table.add_data(*create_row(*item, class_labels=class_labels))\n",
    "    \n",
    "    return table\n",
    "\n",
    "def get_predictions(learner, test_dl=None, max_n=None):\n",
    "    \"\"\"Return the samples = (x,y) and outputs (model predictions decoded), and predictions (raw preds)\"\"\"\n",
    "    test_dl = learner.dls.valid if test_dl is None else test_dl\n",
    "    inputs, predictions, targets, outputs = learner.get_preds(\n",
    "        dl=test_dl, with_input=True, with_decoded=True\n",
    "    )\n",
    "    x, y, samples, outputs = learner.dls.valid.show_results(\n",
    "        tuplify(inputs) + tuplify(targets), outputs, show=False, max_n=max_n\n",
    "    )\n",
    "    return samples, outputs, predictions\n",
    "\n",
    "    def value(self): return self.inter/(self.union-self.inter) if self.union > 0 else None\n",
    "\n",
    "class MIOU(DiceMulti):\n",
    "    @property\n",
    "    def value(self):\n",
    "        binary_iou_scores = np.array([])\n",
    "        for c in self.inter:\n",
    "            binary_iou_scores = np.append(binary_iou_scores, \\\n",
    "                                          self.inter[c]/(self.union[c]-self.inter[c]) if self.union[c] > 0 else np.nan)\n",
    "        return np.nanmean(binary_iou_scores)\n",
    "    \n",
    "class IOU(DiceMulti):\n",
    "    @property\n",
    "    def value(self): \n",
    "        c=CLASS_INDEX[self.nm]\n",
    "        return self.inter[c]/(self.union[c]-self.inter[c]) if self.union[c] > 0 else np.nan\n",
    "\n",
    "class BackgroundIOU(IOU): nm = 'background'\n",
    "class RoadIOU(IOU): nm = 'road'\n",
    "class TrafficLightIOU(IOU): nm = 'traffic light'\n",
    "class TrafficSignIOU(IOU): nm = 'traffic sign'\n",
    "class PersonIOU(IOU): nm = 'person'\n",
    "class VehicleIOU(IOU): nm = 'vehicle'\n",
    "class BicycleIOU(IOU): nm = 'bicycle'\n",
    "\n",
    "\n",
    "class IOUMacro(DiceMulti):\n",
    "    @property\n",
    "    def value(self): \n",
    "        c=CLASS_INDEX[self.nm]\n",
    "        if c not in self.count: return np.nan\n",
    "        else: return self.macro[c]/self.count[c] if self.count[c] > 0 else np.nan\n",
    "\n",
    "    def reset(self): self.macro,self.count = {},{}\n",
    "\n",
    "    def accumulate(self, learn):\n",
    "        pred,targ = learn.pred.argmax(dim=self.axis), learn.y\n",
    "        for c in range(learn.pred.shape[self.axis]):\n",
    "            p = torch.where(pred == c, 1, 0)\n",
    "            t = torch.where(targ == c, 1, 0)\n",
    "            c_inter = (p*t).float().sum(dim=(1,2))\n",
    "            c_union = (p+t).float().sum(dim=(1,2))\n",
    "            m = c_inter / (c_union - c_inter)\n",
    "            macro = m[~torch.any(m.isnan())]\n",
    "            count = macro.shape[1]\n",
    "\n",
    "            if count > 0:\n",
    "                msum = macro.sum().item()\n",
    "                if c in self.count:\n",
    "                    self.count[c] += count\n",
    "                    self.macro[c] += msum\n",
    "                else:\n",
    "                    self.count[c] = count\n",
    "                    self.macro[c] = msum\n",
    "\n",
    "\n",
    "class MIouMacro(IOUMacro):\n",
    "    @property\n",
    "    def value(self):\n",
    "        binary_iou_scores = np.array([])\n",
    "        for c in self.count:\n",
    "            binary_iou_scores = np.append(binary_iou_scores, self.macro[c]/self.count[c] if self.count[c] > 0 else np.nan)\n",
    "        return np.nanmean(binary_iou_scores)\n",
    "\n",
    "\n",
    "class BackgroundIouMacro(IOUMacro): nm = 'background'\n",
    "class RoadIouMacro(IOUMacro): nm = 'road'\n",
    "class TrafficLightIouMacro(IOUMacro): nm = 'traffic light'\n",
    "class TrafficSignIouMacro(IOUMacro): nm = 'traffic sign'\n",
    "class PersonIouMacro(IOUMacro): nm = 'person'\n",
    "class VehicleIouMacro(IOUMacro): nm = 'vehicle'\n",
    "class BicycleIouMacro(IOUMacro): nm = 'bicycle'\n",
    "\n",
    "\n",
    "def display_diagnostics(learner, dls=None, return_vals=False):\n",
    "    \"\"\"\n",
    "    Display a confusion matrix for the unet learner.\n",
    "    If `dls` is None it will get the validation set from the Learner\n",
    "    \n",
    "    You can create a test dataloader using the `test_dl()` method like so:\n",
    "    >> dls = ... # You usually create this from the DataBlocks api, in this library it is get_data()\n",
    "    >> tdls = dls.test_dl(test_dataframe, with_labels=True)\n",
    "    \n",
    "    See: https://docs.fast.ai/tutorial.pets.html#adding-a-test-dataloader-for-inference\n",
    "    \n",
    "    \"\"\"\n",
    "    probs, targs = learner.get_preds(dl = dls)\n",
    "    preds = probs.argmax(dim=1)\n",
    "    classes = list(BDD_CLASSES.values())\n",
    "    y_true = targs.flatten().numpy()\n",
    "    y_pred = preds.flatten().numpy()\n",
    "    \n",
    "    tdf, pdf = [pd.DataFrame(r).value_counts().to_frame(c) for r,c in zip((y_true, y_pred) , ['y_true', 'y_pred'])]\n",
    "    countdf = tdf.join(pdf, how='outer').reset_index(drop=True).fillna(0).astype(int).rename(index=BDD_CLASSES)\n",
    "    countdf = countdf/countdf.sum() \n",
    "    display(Markdown('### % Of Pixels In Each Class'))\n",
    "    display(countdf.style.format('{:.1%}'))\n",
    "    \n",
    "    \n",
    "    disp = ConfusionMatrixDisplay.from_predictions(y_true=y_true, y_pred=y_pred,\n",
    "                                                   display_labels=classes,\n",
    "                                                   normalize='pred')\n",
    "    fig = disp.ax_.get_figure()\n",
    "    fig.set_figwidth(10)\n",
    "    fig.set_figheight(10) \n",
    "    disp.ax_.set_title('Confusion Matrix (by Pixels)', fontdict={'fontsize': 32, 'fontweight': 'medium'})\n",
    "    fig.show()\n",
    "    \n",
    "    if return_vals: return countdf, disp"
   ]
  },
  {
   "cell_type": "code",
   "execution_count": 78,
   "id": "9b53b1b1",
   "metadata": {},
   "outputs": [],
   "source": [
    "train_config = SimpleNamespace(\n",
    "    framework=\"fastai\",\n",
    "    img_size=(180, 320),\n",
    "    batch_size=8,\n",
    "    augment=True, # use data augmentation\n",
    "    epochs=10, \n",
    "    lr=2e-3,\n",
    "    pretrained=True,  # whether to use pretrained encoder\n",
    "    seed=42,\n",
    ")"
   ]
  },
  {
   "cell_type": "code",
   "execution_count": 79,
   "id": "1c74969b",
   "metadata": {},
   "outputs": [],
   "source": [
    "set_seed(train_config.seed, reproducible=True)"
   ]
  },
  {
   "cell_type": "code",
   "execution_count": 80,
   "id": "31df7d1c",
   "metadata": {},
   "outputs": [
    {
     "data": {
      "text/html": [
       "Tracking run with wandb version 0.18.1"
      ],
      "text/plain": [
       "<IPython.core.display.HTML object>"
      ]
     },
     "metadata": {},
     "output_type": "display_data"
    },
    {
     "data": {
      "text/html": [
       "Run data is saved locally in <code>C:\\Users\\Semal\\Desktop\\My Folder\\Autonomous_vehicle_perception\\wandb\\run-20241030_132301-banuj78l</code>"
      ],
      "text/plain": [
       "<IPython.core.display.HTML object>"
      ]
     },
     "metadata": {},
     "output_type": "display_data"
    },
    {
     "data": {
      "text/html": [
       "Syncing run <strong><a href='https://wandb.ai/semaljohari80/mlops-course-001/runs/banuj78l' target=\"_blank\">frightful-rift-12</a></strong> to <a href='https://wandb.ai/semaljohari80/mlops-course-001' target=\"_blank\">Weights & Biases</a> (<a href='https://wandb.me/run' target=\"_blank\">docs</a>)<br/>"
      ],
      "text/plain": [
       "<IPython.core.display.HTML object>"
      ]
     },
     "metadata": {},
     "output_type": "display_data"
    },
    {
     "data": {
      "text/html": [
       " View project at <a href='https://wandb.ai/semaljohari80/mlops-course-001' target=\"_blank\">https://wandb.ai/semaljohari80/mlops-course-001</a>"
      ],
      "text/plain": [
       "<IPython.core.display.HTML object>"
      ]
     },
     "metadata": {},
     "output_type": "display_data"
    },
    {
     "data": {
      "text/html": [
       " View run at <a href='https://wandb.ai/semaljohari80/mlops-course-001/runs/banuj78l' target=\"_blank\">https://wandb.ai/semaljohari80/mlops-course-001/runs/banuj78l</a>"
      ],
      "text/plain": [
       "<IPython.core.display.HTML object>"
      ]
     },
     "metadata": {},
     "output_type": "display_data"
    }
   ],
   "source": [
    "run = wandb.init(project=WANDB_PROJECT, entity=ENTITY, job_type=\"training\", config=train_config)"
   ]
  },
  {
   "cell_type": "code",
   "execution_count": 81,
   "id": "d388fd99",
   "metadata": {},
   "outputs": [
    {
     "name": "stderr",
     "output_type": "stream",
     "text": [
      "\u001b[34m\u001b[1mwandb\u001b[0m: Downloading large artifact bdd_simple_1k_split:latest, 813.25MB. 4010 files... \n",
      "\u001b[34m\u001b[1mwandb\u001b[0m:   4010 of 4010 files downloaded.  \n",
      "Done. 0:0:27.1\n"
     ]
    }
   ],
   "source": [
    "processed_data_at = run.use_artifact(f'{PROCESSED_DATA_AT}:latest')\n",
    "processed_dataset_dir = Path(processed_data_at.download())\n",
    "df = pd.read_csv(processed_dataset_dir / 'data_split.csv')"
   ]
  },
  {
   "cell_type": "code",
   "execution_count": 82,
   "id": "b6226c63",
   "metadata": {},
   "outputs": [],
   "source": [
    "df = df[df.Stage != 'test'].reset_index(drop=True)\n",
    "df['is_valid'] = df.Stage == 'valid'"
   ]
  },
  {
   "cell_type": "code",
   "execution_count": 83,
   "id": "420ee7bd",
   "metadata": {},
   "outputs": [],
   "source": [
    "def label_func(fname):\n",
    "    return (fname.parent.parent/\"labels\")/f\"{fname.stem}_mask.png\""
   ]
  },
  {
   "cell_type": "code",
   "execution_count": 84,
   "id": "ffe8f232",
   "metadata": {},
   "outputs": [],
   "source": [
    "df[\"image_fname\"] = [processed_dataset_dir/f'images/{f}' for f in df.File_Name.values]\n",
    "df[\"label_fname\"] = [label_func(f) for f in df.image_fname.values]"
   ]
  },
  {
   "cell_type": "code",
   "execution_count": 85,
   "id": "6ba3fe5a",
   "metadata": {},
   "outputs": [],
   "source": [
    "def get_data(df, bs=4, img_size=(180, 320), augment=True):\n",
    "    block = DataBlock(blocks=(ImageBlock, MaskBlock(codes=BDD_CLASSES)),\n",
    "                  get_x=ColReader(\"image_fname\", suff='.jpg'),\n",
    "                  get_y=ColReader(\"label_fname\"),\n",
    "                  splitter=ColSplitter(),\n",
    "                  item_tfms=Resize(img_size),\n",
    "                  batch_tfms=aug_transforms() if augment else None,\n",
    "                 )\n",
    "    return block.dataloaders(df, bs=bs)"
   ]
  },
  {
   "cell_type": "code",
   "execution_count": 86,
   "id": "952c6257",
   "metadata": {},
   "outputs": [],
   "source": [
    "config = wandb.config"
   ]
  },
  {
   "cell_type": "code",
   "execution_count": 87,
   "id": "7483b003",
   "metadata": {},
   "outputs": [],
   "source": [
    "dls = get_data(df, bs=config.batch_size, img_size=config.img_size, augment=config.augment)"
   ]
  },
  {
   "cell_type": "code",
   "execution_count": 88,
   "id": "0a8b5cdf",
   "metadata": {},
   "outputs": [
    {
     "name": "stdout",
     "output_type": "stream",
     "text": [
      "                                                                                                                image_fname\n",
      "0  C:\\Users\\Semal\\Desktop\\My Folder\\Autonomous_vehicle_perception\\artifacts\\bdd_simple_1k_split-v2\\images\\0027eed2-09c90000\n",
      "1  C:\\Users\\Semal\\Desktop\\My Folder\\Autonomous_vehicle_perception\\artifacts\\bdd_simple_1k_split-v2\\images\\0027eed2-09c90001\n",
      "2  C:\\Users\\Semal\\Desktop\\My Folder\\Autonomous_vehicle_perception\\artifacts\\bdd_simple_1k_split-v2\\images\\00aad4a0-ee8135fe\n",
      "3  C:\\Users\\Semal\\Desktop\\My Folder\\Autonomous_vehicle_perception\\artifacts\\bdd_simple_1k_split-v2\\images\\00d79c0a-23befe54\n",
      "4  C:\\Users\\Semal\\Desktop\\My Folder\\Autonomous_vehicle_perception\\artifacts\\bdd_simple_1k_split-v2\\images\\00e69ee0-9656df95\n"
     ]
    }
   ],
   "source": [
    "print(df[['image_fname']].head())"
   ]
  },
  {
   "cell_type": "code",
   "execution_count": 89,
   "id": "d3ee69ad",
   "metadata": {},
   "outputs": [],
   "source": [
    "metrics = [MIOU(), BackgroundIOU(), RoadIOU(), TrafficLightIOU(), \\\n",
    "           TrafficSignIOU(), PersonIOU(), VehicleIOU(), BicycleIOU()]\n",
    "\n",
    "learn = unet_learner(dls, arch=resnet18, pretrained=config.pretrained, metrics=metrics)"
   ]
  },
  {
   "cell_type": "code",
   "execution_count": 90,
   "id": "1b4c7667",
   "metadata": {},
   "outputs": [],
   "source": [
    "callbacks = [\n",
    "    SaveModelCallback(monitor='miou'),\n",
    "    WandbCallback(log_preds=False, log_model=True)\n",
    "]"
   ]
  },
  {
   "cell_type": "code",
   "execution_count": 91,
   "id": "1d8f96f8",
   "metadata": {},
   "outputs": [
    {
     "data": {
      "text/html": [
       "\n",
       "<style>\n",
       "    /* Turns off some styling */\n",
       "    progress {\n",
       "        /* gets rid of default border in Firefox and Opera. */\n",
       "        border: none;\n",
       "        /* Needs to be in here for Safari polyfill so background images work as expected. */\n",
       "        background-size: auto;\n",
       "    }\n",
       "    progress:not([value]), progress:not([value])::-webkit-progress-bar {\n",
       "        background: repeating-linear-gradient(45deg, #7e7e7e, #7e7e7e 10px, #5c5c5c 10px, #5c5c5c 20px);\n",
       "    }\n",
       "    .progress-bar-interrupted, .progress-bar-interrupted::-webkit-progress-bar {\n",
       "        background: #F44336;\n",
       "    }\n",
       "</style>\n"
      ],
      "text/plain": [
       "<IPython.core.display.HTML object>"
      ]
     },
     "metadata": {},
     "output_type": "display_data"
    },
    {
     "data": {
      "text/html": [
       "<table border=\"1\" class=\"dataframe\">\n",
       "  <thead>\n",
       "    <tr style=\"text-align: left;\">\n",
       "      <th>epoch</th>\n",
       "      <th>train_loss</th>\n",
       "      <th>valid_loss</th>\n",
       "      <th>miou</th>\n",
       "      <th>background_iou</th>\n",
       "      <th>road_iou</th>\n",
       "      <th>traffic_light_iou</th>\n",
       "      <th>traffic_sign_iou</th>\n",
       "      <th>person_iou</th>\n",
       "      <th>vehicle_iou</th>\n",
       "      <th>bicycle_iou</th>\n",
       "      <th>time</th>\n",
       "    </tr>\n",
       "  </thead>\n",
       "  <tbody>\n",
       "    <tr>\n",
       "      <td>0</td>\n",
       "      <td>0.498824</td>\n",
       "      <td>0.359526</td>\n",
       "      <td>0.308615</td>\n",
       "      <td>0.863343</td>\n",
       "      <td>0.719259</td>\n",
       "      <td>0.000000</td>\n",
       "      <td>0.000000</td>\n",
       "      <td>0.000000</td>\n",
       "      <td>0.577702</td>\n",
       "      <td>0.000000</td>\n",
       "      <td>2:05:19</td>\n",
       "    </tr>\n",
       "    <tr>\n",
       "      <td>1</td>\n",
       "      <td>0.378712</td>\n",
       "      <td>0.397279</td>\n",
       "      <td>0.300791</td>\n",
       "      <td>0.858751</td>\n",
       "      <td>0.727972</td>\n",
       "      <td>0.000000</td>\n",
       "      <td>0.000000</td>\n",
       "      <td>0.000000</td>\n",
       "      <td>0.518813</td>\n",
       "      <td>0.000000</td>\n",
       "      <td>59:41</td>\n",
       "    </tr>\n",
       "    <tr>\n",
       "      <td>2</td>\n",
       "      <td>0.342693</td>\n",
       "      <td>0.338868</td>\n",
       "      <td>0.331844</td>\n",
       "      <td>0.891564</td>\n",
       "      <td>0.797909</td>\n",
       "      <td>0.000000</td>\n",
       "      <td>0.000000</td>\n",
       "      <td>0.000000</td>\n",
       "      <td>0.633436</td>\n",
       "      <td>0.000000</td>\n",
       "      <td>1:25:11</td>\n",
       "    </tr>\n",
       "    <tr>\n",
       "      <td>3</td>\n",
       "      <td>0.318976</td>\n",
       "      <td>0.273293</td>\n",
       "      <td>0.342093</td>\n",
       "      <td>0.901053</td>\n",
       "      <td>0.800810</td>\n",
       "      <td>0.000000</td>\n",
       "      <td>0.000000</td>\n",
       "      <td>0.000000</td>\n",
       "      <td>0.692787</td>\n",
       "      <td>0.000000</td>\n",
       "      <td>1:17:44</td>\n",
       "    </tr>\n",
       "    <tr>\n",
       "      <td>4</td>\n",
       "      <td>0.275806</td>\n",
       "      <td>0.247638</td>\n",
       "      <td>0.348584</td>\n",
       "      <td>0.904488</td>\n",
       "      <td>0.816115</td>\n",
       "      <td>0.000000</td>\n",
       "      <td>0.000000</td>\n",
       "      <td>0.000000</td>\n",
       "      <td>0.719485</td>\n",
       "      <td>0.000000</td>\n",
       "      <td>1:02:50</td>\n",
       "    </tr>\n",
       "    <tr>\n",
       "      <td>5</td>\n",
       "      <td>0.243826</td>\n",
       "      <td>0.235586</td>\n",
       "      <td>0.360453</td>\n",
       "      <td>0.919278</td>\n",
       "      <td>0.841591</td>\n",
       "      <td>0.020700</td>\n",
       "      <td>0.000000</td>\n",
       "      <td>0.000000</td>\n",
       "      <td>0.741602</td>\n",
       "      <td>0.000000</td>\n",
       "      <td>1:20:17</td>\n",
       "    </tr>\n",
       "    <tr>\n",
       "      <td>6</td>\n",
       "      <td>0.228935</td>\n",
       "      <td>0.238623</td>\n",
       "      <td>0.360150</td>\n",
       "      <td>0.916151</td>\n",
       "      <td>0.837224</td>\n",
       "      <td>0.032097</td>\n",
       "      <td>0.000000</td>\n",
       "      <td>0.000000</td>\n",
       "      <td>0.735578</td>\n",
       "      <td>0.000000</td>\n",
       "      <td>1:03:55</td>\n",
       "    </tr>\n",
       "    <tr>\n",
       "      <td>7</td>\n",
       "      <td>0.205480</td>\n",
       "      <td>0.226565</td>\n",
       "      <td>0.370939</td>\n",
       "      <td>0.920979</td>\n",
       "      <td>0.848697</td>\n",
       "      <td>0.069279</td>\n",
       "      <td>0.000000</td>\n",
       "      <td>0.000000</td>\n",
       "      <td>0.757620</td>\n",
       "      <td>0.000000</td>\n",
       "      <td>1:00:20</td>\n",
       "    </tr>\n",
       "    <tr>\n",
       "      <td>8</td>\n",
       "      <td>0.190401</td>\n",
       "      <td>0.230159</td>\n",
       "      <td>0.379614</td>\n",
       "      <td>0.922503</td>\n",
       "      <td>0.846163</td>\n",
       "      <td>0.131652</td>\n",
       "      <td>0.000000</td>\n",
       "      <td>0.000000</td>\n",
       "      <td>0.756982</td>\n",
       "      <td>0.000000</td>\n",
       "      <td>1:02:19</td>\n",
       "    </tr>\n",
       "    <tr>\n",
       "      <td>9</td>\n",
       "      <td>0.179647</td>\n",
       "      <td>0.227563</td>\n",
       "      <td>0.381523</td>\n",
       "      <td>0.922796</td>\n",
       "      <td>0.849223</td>\n",
       "      <td>0.131913</td>\n",
       "      <td>0.000000</td>\n",
       "      <td>0.000000</td>\n",
       "      <td>0.766726</td>\n",
       "      <td>0.000000</td>\n",
       "      <td>1:04:37</td>\n",
       "    </tr>\n",
       "  </tbody>\n",
       "</table>"
      ],
      "text/plain": [
       "<IPython.core.display.HTML object>"
      ]
     },
     "metadata": {},
     "output_type": "display_data"
    },
    {
     "name": "stdout",
     "output_type": "stream",
     "text": [
      "Better model found at epoch 0 with miou value: 0.3086148177722196.\n",
      "Better model found at epoch 2 with miou value: 0.3318441515519253.\n",
      "Better model found at epoch 3 with miou value: 0.34209279016571875.\n",
      "Better model found at epoch 4 with miou value: 0.3485840421328832.\n",
      "Better model found at epoch 5 with miou value: 0.360452994157827.\n",
      "Better model found at epoch 7 with miou value: 0.3709392022500198.\n",
      "Better model found at epoch 8 with miou value: 0.379614366514122.\n",
      "Better model found at epoch 9 with miou value: 0.38152260904552954.\n"
     ]
    }
   ],
   "source": [
    "learn.fit_one_cycle(config.epochs, config.lr, cbs=callbacks)"
   ]
  },
  {
   "cell_type": "code",
   "execution_count": 93,
   "id": "162f312b",
   "metadata": {},
   "outputs": [
    {
     "data": {
      "text/html": [
       "\n",
       "<style>\n",
       "    /* Turns off some styling */\n",
       "    progress {\n",
       "        /* gets rid of default border in Firefox and Opera. */\n",
       "        border: none;\n",
       "        /* Needs to be in here for Safari polyfill so background images work as expected. */\n",
       "        background-size: auto;\n",
       "    }\n",
       "    progress:not([value]), progress:not([value])::-webkit-progress-bar {\n",
       "        background: repeating-linear-gradient(45deg, #7e7e7e, #7e7e7e 10px, #5c5c5c 10px, #5c5c5c 20px);\n",
       "    }\n",
       "    .progress-bar-interrupted, .progress-bar-interrupted::-webkit-progress-bar {\n",
       "        background: #F44336;\n",
       "    }\n",
       "</style>\n"
      ],
      "text/plain": [
       "<IPython.core.display.HTML object>"
      ]
     },
     "metadata": {},
     "output_type": "display_data"
    },
    {
     "data": {
      "text/html": [],
      "text/plain": [
       "<IPython.core.display.HTML object>"
      ]
     },
     "metadata": {},
     "output_type": "display_data"
    },
    {
     "data": {
      "text/html": [
       "\n",
       "<style>\n",
       "    /* Turns off some styling */\n",
       "    progress {\n",
       "        /* gets rid of default border in Firefox and Opera. */\n",
       "        border: none;\n",
       "        /* Needs to be in here for Safari polyfill so background images work as expected. */\n",
       "        background-size: auto;\n",
       "    }\n",
       "    progress:not([value]), progress:not([value])::-webkit-progress-bar {\n",
       "        background: repeating-linear-gradient(45deg, #7e7e7e, #7e7e7e 10px, #5c5c5c 10px, #5c5c5c 20px);\n",
       "    }\n",
       "    .progress-bar-interrupted, .progress-bar-interrupted::-webkit-progress-bar {\n",
       "        background: #F44336;\n",
       "    }\n",
       "</style>\n"
      ],
      "text/plain": [
       "<IPython.core.display.HTML object>"
      ]
     },
     "metadata": {},
     "output_type": "display_data"
    },
    {
     "data": {
      "text/html": [
       "\n",
       "    <div>\n",
       "      <progress value='100' class='' max='100' style='width:300px; height:20px; vertical-align: middle;'></progress>\n",
       "      100.00% [100/100 00:20&lt;00:00]\n",
       "    </div>\n",
       "    "
      ],
      "text/plain": [
       "<IPython.core.display.HTML object>"
      ]
     },
     "metadata": {},
     "output_type": "display_data"
    }
   ],
   "source": [
    "samples, outputs, predictions = get_predictions(learn)\n",
    "table = create_iou_table(samples, outputs, predictions, BDD_CLASSES)\n",
    "wandb.log({\"pred_table\":table})"
   ]
  },
  {
   "cell_type": "code",
   "execution_count": 94,
   "id": "b4f314db",
   "metadata": {},
   "outputs": [
    {
     "data": {
      "text/html": [
       "\n",
       "<style>\n",
       "    /* Turns off some styling */\n",
       "    progress {\n",
       "        /* gets rid of default border in Firefox and Opera. */\n",
       "        border: none;\n",
       "        /* Needs to be in here for Safari polyfill so background images work as expected. */\n",
       "        background-size: auto;\n",
       "    }\n",
       "    progress:not([value]), progress:not([value])::-webkit-progress-bar {\n",
       "        background: repeating-linear-gradient(45deg, #7e7e7e, #7e7e7e 10px, #5c5c5c 10px, #5c5c5c 20px);\n",
       "    }\n",
       "    .progress-bar-interrupted, .progress-bar-interrupted::-webkit-progress-bar {\n",
       "        background: #F44336;\n",
       "    }\n",
       "</style>\n"
      ],
      "text/plain": [
       "<IPython.core.display.HTML object>"
      ]
     },
     "metadata": {},
     "output_type": "display_data"
    },
    {
     "data": {
      "text/html": [],
      "text/plain": [
       "<IPython.core.display.HTML object>"
      ]
     },
     "metadata": {},
     "output_type": "display_data"
    }
   ],
   "source": [
    "scores = learn.validate()\n",
    "metric_names = ['final_loss'] + [f'final_{x.name}' for x in metrics]\n",
    "final_results = {metric_names[i] : scores[i] for i in range(len(scores))}\n",
    "for k,v in final_results.items(): \n",
    "    wandb.summary[k] = v"
   ]
  },
  {
   "cell_type": "code",
   "execution_count": 95,
   "id": "cf2f05b1",
   "metadata": {},
   "outputs": [
    {
     "data": {
      "application/vnd.jupyter.widget-view+json": {
       "model_id": "",
       "version_major": 2,
       "version_minor": 0
      },
      "text/plain": [
       "VBox(children=(Label(value='126.661 MB of 126.661 MB uploaded\\r'), FloatProgress(value=1.0, max=1.0)))"
      ]
     },
     "metadata": {},
     "output_type": "display_data"
    },
    {
     "data": {
      "text/html": [
       "<style>\n",
       "    table.wandb td:nth-child(1) { padding: 0 10px; text-align: left ; width: auto;} td:nth-child(2) {text-align: left ; width: 100%}\n",
       "    .wandb-row { display: flex; flex-direction: row; flex-wrap: wrap; justify-content: flex-start; width: 100% }\n",
       "    .wandb-col { display: flex; flex-direction: column; flex-basis: 100%; flex: 1; padding: 10px; }\n",
       "    </style>\n",
       "<div class=\"wandb-row\"><div class=\"wandb-col\"><h3>Run history:</h3><br/><table class=\"wandb\"><tr><td>background_iou</td><td>▂▁▅▆▆█▇███</td></tr><tr><td>bicycle_iou</td><td>▁▁▁▁▁▁▁▁▁▁</td></tr><tr><td>epoch</td><td>▁▁▁▁▁▂▂▂▂▂▂▃▃▃▃▄▄▄▄▄▅▅▅▅▆▆▆▆▆▆▇▇▇▇▇▇▇███</td></tr><tr><td>eps_0</td><td>▁▁▁▁▁▁▁▁▁▁▁▁▁▁▁▁▁▁▁▁▁▁▁▁▁▁▁▁▁▁▁▁▁▁▁▁▁▁▁▁</td></tr><tr><td>eps_1</td><td>▁▁▁▁▁▁▁▁▁▁▁▁▁▁▁▁▁▁▁▁▁▁▁▁▁▁▁▁▁▁▁▁▁▁▁▁▁▁▁▁</td></tr><tr><td>eps_2</td><td>▁▁▁▁▁▁▁▁▁▁▁▁▁▁▁▁▁▁▁▁▁▁▁▁▁▁▁▁▁▁▁▁▁▁▁▁▁▁▁▁</td></tr><tr><td>lr_0</td><td>▁▁▃▅▆█████████████▇▇▇▆▆▆▅▃▃▂▂▂▂▂▂▂▂▂▁▁▁▁</td></tr><tr><td>lr_1</td><td>▁▁▁▂▃▃▃▅▆▆████████▇▇▆▆▅▅▅▄▄▄▄▃▃▂▂▂▂▂▁▁▁▁</td></tr><tr><td>lr_2</td><td>▄▄▅▆▇████▇▇▇▇▇▇▆▅▅▅▅▄▄▄▃▃▂▂▂▂▂▂▂▁▁▁▁▁▁▁▁</td></tr><tr><td>miou</td><td>▂▁▄▅▅▆▆▇██</td></tr><tr><td>mom_0</td><td>█▆▆▅▅▄▃▃▃▁▁▁▁▁▂▂▃▃▃▄▄▄▅▆▆▆▆▆▇▇▇▇████████</td></tr><tr><td>mom_1</td><td>███▇▇▇▅▂▂▂▁▁▁▁▁▂▂▂▂▂▂▃▃▃▄▄▅▅▅▅▆▆▇▇▇█████</td></tr><tr><td>mom_2</td><td>██▇▇▅▃▂▁▁▁▁▁▁▁▂▂▂▂▂▃▄▄▄▄▅▅▅▅▅▆▆▇▇▇▇█████</td></tr><tr><td>person_iou</td><td>▁▁▁▁▁▁▁▁▁▁</td></tr><tr><td>raw_loss</td><td>█▄▃▃▃▅▅▅▃▂▅▂▂▃▃▂▂▂▂▃▃▂▂▂▁▂▂▂▃▁▂▂▁▁▂▁▂▂▂▁</td></tr><tr><td>road_iou</td><td>▁▁▅▅▆█▇███</td></tr><tr><td>sqr_mom_0</td><td>▁▁▁▁▁▁▁▁▁▁▁▁▁▁▁▁▁▁▁▁▁▁▁▁▁▁▁▁▁▁▁▁▁▁▁▁▁▁▁▁</td></tr><tr><td>sqr_mom_1</td><td>▁▁▁▁▁▁▁▁▁▁▁▁▁▁▁▁▁▁▁▁▁▁▁▁▁▁▁▁▁▁▁▁▁▁▁▁▁▁▁▁</td></tr><tr><td>sqr_mom_2</td><td>▁▁▁▁▁▁▁▁▁▁▁▁▁▁▁▁▁▁▁▁▁▁▁▁▁▁▁▁▁▁▁▁▁▁▁▁▁▁▁▁</td></tr><tr><td>traffic_light_iou</td><td>▁▁▁▁▁▂▃▅██</td></tr><tr><td>traffic_sign_iou</td><td>▁▁▁▁▁▁▁▁▁▁</td></tr><tr><td>train_loss</td><td>█▆▅▅▅▄▄▄▄▄▄▄▃▃▃▃▃▃▂▂▂▂▂▂▂▂▂▂▁▁▁▁▁▁▁▁▁▁▁▁</td></tr><tr><td>train_samples_per_sec</td><td>▁▂▃▄▃▆▅▆▂▂▂▁▂▆▂▂▂▂▂▄▅▂▃▂▂▄▃▄█▄▅▅▄▄▄▄▄▂▁▆</td></tr><tr><td>valid_loss</td><td>▆█▆▃▂▁▁▁▁▁</td></tr><tr><td>vehicle_iou</td><td>▃▁▄▆▇▇▇███</td></tr><tr><td>wd_0</td><td>▁▁▁▁▁▁▁▁▁▁▁▁▁▁▁▁▁▁▁▁▁▁▁▁▁▁▁▁▁▁▁▁▁▁▁▁▁▁▁▁</td></tr><tr><td>wd_1</td><td>▁▁▁▁▁▁▁▁▁▁▁▁▁▁▁▁▁▁▁▁▁▁▁▁▁▁▁▁▁▁▁▁▁▁▁▁▁▁▁▁</td></tr><tr><td>wd_2</td><td>▁▁▁▁▁▁▁▁▁▁▁▁▁▁▁▁▁▁▁▁▁▁▁▁▁▁▁▁▁▁▁▁▁▁▁▁▁▁▁▁</td></tr></table><br/></div><div class=\"wandb-col\"><h3>Run summary:</h3><br/><table class=\"wandb\"><tr><td>background_iou</td><td>0.9228</td></tr><tr><td>bicycle_iou</td><td>0</td></tr><tr><td>epoch</td><td>10</td></tr><tr><td>eps_0</td><td>1e-05</td></tr><tr><td>eps_1</td><td>1e-05</td></tr><tr><td>eps_2</td><td>1e-05</td></tr><tr><td>final_background_iou</td><td>0.9228</td></tr><tr><td>final_bicycle_iou</td><td>0</td></tr><tr><td>final_loss</td><td>0.22756</td></tr><tr><td>final_miou</td><td>0.38152</td></tr><tr><td>final_person_iou</td><td>0</td></tr><tr><td>final_road_iou</td><td>0.84922</td></tr><tr><td>final_traffic_light_iou</td><td>0.13191</td></tr><tr><td>final_traffic_sign_iou</td><td>0</td></tr><tr><td>final_vehicle_iou</td><td>0.76673</td></tr><tr><td>lr_0</td><td>0.0</td></tr><tr><td>lr_1</td><td>0.0</td></tr><tr><td>lr_2</td><td>0.0</td></tr><tr><td>miou</td><td>0.38152</td></tr><tr><td>mom_0</td><td>0.95</td></tr><tr><td>mom_1</td><td>0.95</td></tr><tr><td>mom_2</td><td>0.95</td></tr><tr><td>person_iou</td><td>0</td></tr><tr><td>raw_loss</td><td>0.13931</td></tr><tr><td>road_iou</td><td>0.84922</td></tr><tr><td>sqr_mom_0</td><td>0.99</td></tr><tr><td>sqr_mom_1</td><td>0.99</td></tr><tr><td>sqr_mom_2</td><td>0.99</td></tr><tr><td>traffic_light_iou</td><td>0.13191</td></tr><tr><td>traffic_sign_iou</td><td>0</td></tr><tr><td>train_loss</td><td>0.17965</td></tr><tr><td>train_samples_per_sec</td><td>0.23413</td></tr><tr><td>valid_loss</td><td>0.22756</td></tr><tr><td>vehicle_iou</td><td>0.76673</td></tr><tr><td>wd_0</td><td>0.01</td></tr><tr><td>wd_1</td><td>0.01</td></tr><tr><td>wd_2</td><td>0.01</td></tr></table><br/></div></div>"
      ],
      "text/plain": [
       "<IPython.core.display.HTML object>"
      ]
     },
     "metadata": {},
     "output_type": "display_data"
    },
    {
     "data": {
      "text/html": [
       " View run <strong style=\"color:#cdcd00\">frightful-rift-12</strong> at: <a href='https://wandb.ai/semaljohari80/mlops-course-001/runs/banuj78l' target=\"_blank\">https://wandb.ai/semaljohari80/mlops-course-001/runs/banuj78l</a><br/> View project at: <a href='https://wandb.ai/semaljohari80/mlops-course-001' target=\"_blank\">https://wandb.ai/semaljohari80/mlops-course-001</a><br/>Synced 5 W&B file(s), 0 media file(s), 305 artifact file(s) and 1 other file(s)"
      ],
      "text/plain": [
       "<IPython.core.display.HTML object>"
      ]
     },
     "metadata": {},
     "output_type": "display_data"
    },
    {
     "data": {
      "text/html": [
       "Find logs at: <code>.\\wandb\\run-20241030_132301-banuj78l\\logs</code>"
      ],
      "text/plain": [
       "<IPython.core.display.HTML object>"
      ]
     },
     "metadata": {},
     "output_type": "display_data"
    }
   ],
   "source": [
    "wandb.finish()"
   ]
  },
  {
   "cell_type": "code",
   "execution_count": null,
   "id": "4d89a84f",
   "metadata": {},
   "outputs": [],
   "source": []
  }
 ],
 "metadata": {
  "kernelspec": {
   "display_name": "Python 3 (ipykernel)",
   "language": "python",
   "name": "python3"
  },
  "language_info": {
   "codemirror_mode": {
    "name": "ipython",
    "version": 3
   },
   "file_extension": ".py",
   "mimetype": "text/x-python",
   "name": "python",
   "nbconvert_exporter": "python",
   "pygments_lexer": "ipython3",
   "version": "3.11.5"
  }
 },
 "nbformat": 4,
 "nbformat_minor": 5
}
